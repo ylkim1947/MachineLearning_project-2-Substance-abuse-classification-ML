{
  "cells": [
    {
      "cell_type": "markdown",
      "source": [
        "# Importing DATA"
      ],
      "metadata": {
        "id": "jAfRK58l5Y65"
      }
    },
    {
      "cell_type": "code",
      "source": [
        "!pip install pdpbox"
      ],
      "metadata": {
        "colab": {
          "base_uri": "https://localhost:8080/",
          "height": 0
        },
        "id": "_Xi9_RlXHw8f",
        "outputId": "56082fc2-a3e3-41aa-ac1d-5a832a19e88b"
      },
      "execution_count": 1,
      "outputs": [
        {
          "output_type": "stream",
          "name": "stdout",
          "text": [
            "Looking in indexes: https://pypi.org/simple, https://us-python.pkg.dev/colab-wheels/public/simple/\n",
            "Collecting pdpbox\n",
            "  Downloading PDPbox-0.2.1.tar.gz (34.0 MB)\n",
            "\u001b[K     |████████████████████████████████| 34.0 MB 1.3 MB/s \n",
            "\u001b[?25hRequirement already satisfied: pandas in /usr/local/lib/python3.7/dist-packages (from pdpbox) (1.3.5)\n",
            "Requirement already satisfied: numpy in /usr/local/lib/python3.7/dist-packages (from pdpbox) (1.21.6)\n",
            "Requirement already satisfied: scipy in /usr/local/lib/python3.7/dist-packages (from pdpbox) (1.7.3)\n",
            "Requirement already satisfied: joblib in /usr/local/lib/python3.7/dist-packages (from pdpbox) (1.1.0)\n",
            "Requirement already satisfied: psutil in /usr/local/lib/python3.7/dist-packages (from pdpbox) (5.4.8)\n",
            "Collecting matplotlib==3.1.1\n",
            "  Downloading matplotlib-3.1.1-cp37-cp37m-manylinux1_x86_64.whl (13.1 MB)\n",
            "\u001b[K     |████████████████████████████████| 13.1 MB 63.3 MB/s \n",
            "\u001b[?25hRequirement already satisfied: sklearn in /usr/local/lib/python3.7/dist-packages (from pdpbox) (0.0)\n",
            "Requirement already satisfied: pyparsing!=2.0.4,!=2.1.2,!=2.1.6,>=2.0.1 in /usr/local/lib/python3.7/dist-packages (from matplotlib==3.1.1->pdpbox) (3.0.9)\n",
            "Requirement already satisfied: python-dateutil>=2.1 in /usr/local/lib/python3.7/dist-packages (from matplotlib==3.1.1->pdpbox) (2.8.2)\n",
            "Requirement already satisfied: kiwisolver>=1.0.1 in /usr/local/lib/python3.7/dist-packages (from matplotlib==3.1.1->pdpbox) (1.4.4)\n",
            "Requirement already satisfied: cycler>=0.10 in /usr/local/lib/python3.7/dist-packages (from matplotlib==3.1.1->pdpbox) (0.11.0)\n",
            "Requirement already satisfied: typing-extensions in /usr/local/lib/python3.7/dist-packages (from kiwisolver>=1.0.1->matplotlib==3.1.1->pdpbox) (4.1.1)\n",
            "Requirement already satisfied: six>=1.5 in /usr/local/lib/python3.7/dist-packages (from python-dateutil>=2.1->matplotlib==3.1.1->pdpbox) (1.15.0)\n",
            "Requirement already satisfied: pytz>=2017.3 in /usr/local/lib/python3.7/dist-packages (from pandas->pdpbox) (2022.1)\n",
            "Requirement already satisfied: scikit-learn in /usr/local/lib/python3.7/dist-packages (from sklearn->pdpbox) (1.0.2)\n",
            "Requirement already satisfied: threadpoolctl>=2.0.0 in /usr/local/lib/python3.7/dist-packages (from scikit-learn->sklearn->pdpbox) (3.1.0)\n",
            "Building wheels for collected packages: pdpbox\n",
            "  Building wheel for pdpbox (setup.py) ... \u001b[?25l\u001b[?25hdone\n",
            "  Created wheel for pdpbox: filename=PDPbox-0.2.1-py3-none-any.whl size=35758224 sha256=0a5c1645ca9709367fdb217b30978c3350704726acc68a6d4ea22b5073c2def4\n",
            "  Stored in directory: /root/.cache/pip/wheels/f4/d0/1a/b80035625c53131f52906a6fc4dd690d8efd2bf8af6a4015eb\n",
            "Successfully built pdpbox\n",
            "Installing collected packages: matplotlib, pdpbox\n",
            "  Attempting uninstall: matplotlib\n",
            "    Found existing installation: matplotlib 3.2.2\n",
            "    Uninstalling matplotlib-3.2.2:\n",
            "      Successfully uninstalled matplotlib-3.2.2\n",
            "\u001b[31mERROR: pip's dependency resolver does not currently take into account all the packages that are installed. This behaviour is the source of the following dependency conflicts.\n",
            "albumentations 0.1.12 requires imgaug<0.2.7,>=0.2.5, but you have imgaug 0.2.9 which is incompatible.\u001b[0m\n",
            "Successfully installed matplotlib-3.1.1 pdpbox-0.2.1\n"
          ]
        },
        {
          "output_type": "display_data",
          "data": {
            "application/vnd.colab-display-data+json": {
              "pip_warning": {
                "packages": [
                  "matplotlib",
                  "mpl_toolkits"
                ]
              }
            }
          },
          "metadata": {}
        }
      ]
    },
    {
      "cell_type": "code",
      "source": [
        "# Library\n",
        "!pip install category_encoders\n",
        "!pip install eli5\n",
        "!pip install pandas-profiling==3.1.0\n",
        "!pip install pdpbox"
      ],
      "metadata": {
        "colab": {
          "base_uri": "https://localhost:8080/",
          "height": 0
        },
        "id": "25wxLHMac1-f",
        "outputId": "72a1c60a-79d6-463b-b480-9b62ee5b3054"
      },
      "execution_count": 2,
      "outputs": [
        {
          "output_type": "stream",
          "name": "stdout",
          "text": [
            "Looking in indexes: https://pypi.org/simple, https://us-python.pkg.dev/colab-wheels/public/simple/\n",
            "Collecting category_encoders\n",
            "  Downloading category_encoders-2.5.0-py2.py3-none-any.whl (69 kB)\n",
            "\u001b[K     |████████████████████████████████| 69 kB 3.3 MB/s \n",
            "\u001b[?25hRequirement already satisfied: pandas>=1.0.5 in /usr/local/lib/python3.7/dist-packages (from category_encoders) (1.3.5)\n",
            "Requirement already satisfied: statsmodels>=0.9.0 in /usr/local/lib/python3.7/dist-packages (from category_encoders) (0.10.2)\n",
            "Requirement already satisfied: scipy>=1.0.0 in /usr/local/lib/python3.7/dist-packages (from category_encoders) (1.7.3)\n",
            "Requirement already satisfied: patsy>=0.5.1 in /usr/local/lib/python3.7/dist-packages (from category_encoders) (0.5.2)\n",
            "Requirement already satisfied: numpy>=1.14.0 in /usr/local/lib/python3.7/dist-packages (from category_encoders) (1.21.6)\n",
            "Requirement already satisfied: scikit-learn>=0.20.0 in /usr/local/lib/python3.7/dist-packages (from category_encoders) (1.0.2)\n",
            "Requirement already satisfied: pytz>=2017.3 in /usr/local/lib/python3.7/dist-packages (from pandas>=1.0.5->category_encoders) (2022.1)\n",
            "Requirement already satisfied: python-dateutil>=2.7.3 in /usr/local/lib/python3.7/dist-packages (from pandas>=1.0.5->category_encoders) (2.8.2)\n",
            "Requirement already satisfied: six in /usr/local/lib/python3.7/dist-packages (from patsy>=0.5.1->category_encoders) (1.15.0)\n",
            "Requirement already satisfied: joblib>=0.11 in /usr/local/lib/python3.7/dist-packages (from scikit-learn>=0.20.0->category_encoders) (1.1.0)\n",
            "Requirement already satisfied: threadpoolctl>=2.0.0 in /usr/local/lib/python3.7/dist-packages (from scikit-learn>=0.20.0->category_encoders) (3.1.0)\n",
            "Installing collected packages: category-encoders\n",
            "Successfully installed category-encoders-2.5.0\n",
            "Looking in indexes: https://pypi.org/simple, https://us-python.pkg.dev/colab-wheels/public/simple/\n",
            "Collecting eli5\n",
            "  Downloading eli5-0.13.0.tar.gz (216 kB)\n",
            "\u001b[K     |████████████████████████████████| 216 kB 4.7 MB/s \n",
            "\u001b[?25hRequirement already satisfied: attrs>17.1.0 in /usr/local/lib/python3.7/dist-packages (from eli5) (21.4.0)\n",
            "Collecting jinja2>=3.0.0\n",
            "  Downloading Jinja2-3.1.2-py3-none-any.whl (133 kB)\n",
            "\u001b[K     |████████████████████████████████| 133 kB 59.4 MB/s \n",
            "\u001b[?25hRequirement already satisfied: numpy>=1.9.0 in /usr/local/lib/python3.7/dist-packages (from eli5) (1.21.6)\n",
            "Requirement already satisfied: scipy in /usr/local/lib/python3.7/dist-packages (from eli5) (1.7.3)\n",
            "Requirement already satisfied: six in /usr/local/lib/python3.7/dist-packages (from eli5) (1.15.0)\n",
            "Requirement already satisfied: scikit-learn>=0.20 in /usr/local/lib/python3.7/dist-packages (from eli5) (1.0.2)\n",
            "Requirement already satisfied: graphviz in /usr/local/lib/python3.7/dist-packages (from eli5) (0.10.1)\n",
            "Requirement already satisfied: tabulate>=0.7.7 in /usr/local/lib/python3.7/dist-packages (from eli5) (0.8.10)\n",
            "Requirement already satisfied: MarkupSafe>=2.0 in /usr/local/lib/python3.7/dist-packages (from jinja2>=3.0.0->eli5) (2.0.1)\n",
            "Requirement already satisfied: joblib>=0.11 in /usr/local/lib/python3.7/dist-packages (from scikit-learn>=0.20->eli5) (1.1.0)\n",
            "Requirement already satisfied: threadpoolctl>=2.0.0 in /usr/local/lib/python3.7/dist-packages (from scikit-learn>=0.20->eli5) (3.1.0)\n",
            "Building wheels for collected packages: eli5\n",
            "  Building wheel for eli5 (setup.py) ... \u001b[?25l\u001b[?25hdone\n",
            "  Created wheel for eli5: filename=eli5-0.13.0-py2.py3-none-any.whl size=107748 sha256=bcd2b64c7121b2617b378e6840b15270338ce91db4ddcb7a0f2972a7c8e73bd7\n",
            "  Stored in directory: /root/.cache/pip/wheels/cc/3c/96/3ead31a8e6c20fc0f1a707fde2e05d49a80b1b4b30096573be\n",
            "Successfully built eli5\n",
            "Installing collected packages: jinja2, eli5\n",
            "  Attempting uninstall: jinja2\n",
            "    Found existing installation: Jinja2 2.11.3\n",
            "    Uninstalling Jinja2-2.11.3:\n",
            "      Successfully uninstalled Jinja2-2.11.3\n",
            "\u001b[31mERROR: pip's dependency resolver does not currently take into account all the packages that are installed. This behaviour is the source of the following dependency conflicts.\n",
            "flask 1.1.4 requires Jinja2<3.0,>=2.10.1, but you have jinja2 3.1.2 which is incompatible.\n",
            "datascience 0.10.6 requires folium==0.2.1, but you have folium 0.8.3 which is incompatible.\u001b[0m\n",
            "Successfully installed eli5-0.13.0 jinja2-3.1.2\n",
            "Looking in indexes: https://pypi.org/simple, https://us-python.pkg.dev/colab-wheels/public/simple/\n",
            "Collecting pandas-profiling==3.1.0\n",
            "  Downloading pandas_profiling-3.1.0-py2.py3-none-any.whl (261 kB)\n",
            "\u001b[K     |████████████████████████████████| 261 kB 4.7 MB/s \n",
            "\u001b[?25hRequirement already satisfied: jinja2>=2.11.1 in /usr/local/lib/python3.7/dist-packages (from pandas-profiling==3.1.0) (3.1.2)\n",
            "Requirement already satisfied: tqdm>=4.48.2 in /usr/local/lib/python3.7/dist-packages (from pandas-profiling==3.1.0) (4.64.0)\n",
            "Collecting htmlmin>=0.1.12\n",
            "  Downloading htmlmin-0.1.12.tar.gz (19 kB)\n",
            "Requirement already satisfied: markupsafe~=2.0.1 in /usr/local/lib/python3.7/dist-packages (from pandas-profiling==3.1.0) (2.0.1)\n",
            "Requirement already satisfied: missingno>=0.4.2 in /usr/local/lib/python3.7/dist-packages (from pandas-profiling==3.1.0) (0.5.1)\n",
            "Requirement already satisfied: pydantic>=1.8.1 in /usr/local/lib/python3.7/dist-packages (from pandas-profiling==3.1.0) (1.9.1)\n",
            "Collecting PyYAML>=5.0.0\n",
            "  Downloading PyYAML-6.0-cp37-cp37m-manylinux_2_5_x86_64.manylinux1_x86_64.manylinux_2_12_x86_64.manylinux2010_x86_64.whl (596 kB)\n",
            "\u001b[K     |████████████████████████████████| 596 kB 45.3 MB/s \n",
            "\u001b[?25hCollecting visions[type_image_path]==0.7.4\n",
            "  Downloading visions-0.7.4-py3-none-any.whl (102 kB)\n",
            "\u001b[K     |████████████████████████████████| 102 kB 9.0 MB/s \n",
            "\u001b[?25hCollecting joblib~=1.0.1\n",
            "  Downloading joblib-1.0.1-py3-none-any.whl (303 kB)\n",
            "\u001b[K     |████████████████████████████████| 303 kB 61.3 MB/s \n",
            "\u001b[?25hRequirement already satisfied: scipy>=1.4.1 in /usr/local/lib/python3.7/dist-packages (from pandas-profiling==3.1.0) (1.7.3)\n",
            "Collecting phik>=0.11.1\n",
            "  Downloading phik-0.12.2-cp37-cp37m-manylinux_2_17_x86_64.manylinux2014_x86_64.whl (690 kB)\n",
            "\u001b[K     |████████████████████████████████| 690 kB 59.7 MB/s \n",
            "\u001b[?25hCollecting tangled-up-in-unicode==0.1.0\n",
            "  Downloading tangled_up_in_unicode-0.1.0-py3-none-any.whl (3.1 MB)\n",
            "\u001b[K     |████████████████████████████████| 3.1 MB 66.2 MB/s \n",
            "\u001b[?25hCollecting requests>=2.24.0\n",
            "  Downloading requests-2.28.1-py3-none-any.whl (62 kB)\n",
            "\u001b[K     |████████████████████████████████| 62 kB 1.5 MB/s \n",
            "\u001b[?25hRequirement already satisfied: seaborn>=0.10.1 in /usr/local/lib/python3.7/dist-packages (from pandas-profiling==3.1.0) (0.11.2)\n",
            "Requirement already satisfied: numpy>=1.16.0 in /usr/local/lib/python3.7/dist-packages (from pandas-profiling==3.1.0) (1.21.6)\n",
            "Requirement already satisfied: pandas!=1.0.0,!=1.0.1,!=1.0.2,!=1.1.0,>=0.25.3 in /usr/local/lib/python3.7/dist-packages (from pandas-profiling==3.1.0) (1.3.5)\n",
            "Collecting matplotlib>=3.2.0\n",
            "  Downloading matplotlib-3.5.2-cp37-cp37m-manylinux_2_5_x86_64.manylinux1_x86_64.whl (11.2 MB)\n",
            "\u001b[K     |████████████████████████████████| 11.2 MB 67.2 MB/s \n",
            "\u001b[?25hCollecting multimethod>=1.4\n",
            "  Downloading multimethod-1.8-py3-none-any.whl (9.8 kB)\n",
            "Requirement already satisfied: attrs>=19.3.0 in /usr/local/lib/python3.7/dist-packages (from visions[type_image_path]==0.7.4->pandas-profiling==3.1.0) (21.4.0)\n",
            "Requirement already satisfied: networkx>=2.4 in /usr/local/lib/python3.7/dist-packages (from visions[type_image_path]==0.7.4->pandas-profiling==3.1.0) (2.6.3)\n",
            "Requirement already satisfied: Pillow in /usr/local/lib/python3.7/dist-packages (from visions[type_image_path]==0.7.4->pandas-profiling==3.1.0) (7.1.2)\n",
            "Collecting imagehash\n",
            "  Downloading ImageHash-4.2.1.tar.gz (812 kB)\n",
            "\u001b[K     |████████████████████████████████| 812 kB 66.4 MB/s \n",
            "\u001b[?25hRequirement already satisfied: python-dateutil>=2.7 in /usr/local/lib/python3.7/dist-packages (from matplotlib>=3.2.0->pandas-profiling==3.1.0) (2.8.2)\n",
            "Requirement already satisfied: packaging>=20.0 in /usr/local/lib/python3.7/dist-packages (from matplotlib>=3.2.0->pandas-profiling==3.1.0) (21.3)\n",
            "Collecting fonttools>=4.22.0\n",
            "  Downloading fonttools-4.34.4-py3-none-any.whl (944 kB)\n",
            "\u001b[K     |████████████████████████████████| 944 kB 58.2 MB/s \n",
            "\u001b[?25hRequirement already satisfied: cycler>=0.10 in /usr/local/lib/python3.7/dist-packages (from matplotlib>=3.2.0->pandas-profiling==3.1.0) (0.11.0)\n",
            "Requirement already satisfied: pyparsing>=2.2.1 in /usr/local/lib/python3.7/dist-packages (from matplotlib>=3.2.0->pandas-profiling==3.1.0) (3.0.9)\n",
            "Requirement already satisfied: kiwisolver>=1.0.1 in /usr/local/lib/python3.7/dist-packages (from matplotlib>=3.2.0->pandas-profiling==3.1.0) (1.4.4)\n",
            "Requirement already satisfied: typing-extensions in /usr/local/lib/python3.7/dist-packages (from kiwisolver>=1.0.1->matplotlib>=3.2.0->pandas-profiling==3.1.0) (4.1.1)\n",
            "Requirement already satisfied: pytz>=2017.3 in /usr/local/lib/python3.7/dist-packages (from pandas!=1.0.0,!=1.0.1,!=1.0.2,!=1.1.0,>=0.25.3->pandas-profiling==3.1.0) (2022.1)\n",
            "Requirement already satisfied: six>=1.5 in /usr/local/lib/python3.7/dist-packages (from python-dateutil>=2.7->matplotlib>=3.2.0->pandas-profiling==3.1.0) (1.15.0)\n",
            "Requirement already satisfied: urllib3<1.27,>=1.21.1 in /usr/local/lib/python3.7/dist-packages (from requests>=2.24.0->pandas-profiling==3.1.0) (1.24.3)\n",
            "Requirement already satisfied: certifi>=2017.4.17 in /usr/local/lib/python3.7/dist-packages (from requests>=2.24.0->pandas-profiling==3.1.0) (2022.6.15)\n",
            "Requirement already satisfied: idna<4,>=2.5 in /usr/local/lib/python3.7/dist-packages (from requests>=2.24.0->pandas-profiling==3.1.0) (2.10)\n",
            "Requirement already satisfied: charset-normalizer<3,>=2 in /usr/local/lib/python3.7/dist-packages (from requests>=2.24.0->pandas-profiling==3.1.0) (2.1.0)\n",
            "Requirement already satisfied: PyWavelets in /usr/local/lib/python3.7/dist-packages (from imagehash->visions[type_image_path]==0.7.4->pandas-profiling==3.1.0) (1.3.0)\n",
            "Building wheels for collected packages: htmlmin, imagehash\n",
            "  Building wheel for htmlmin (setup.py) ... \u001b[?25l\u001b[?25hdone\n",
            "  Created wheel for htmlmin: filename=htmlmin-0.1.12-py3-none-any.whl size=27098 sha256=4ce9be55ec621d655849d56d0babfbd47fb35647101fb88b170522237f572a84\n",
            "  Stored in directory: /root/.cache/pip/wheels/70/e1/52/5b14d250ba868768823940c3229e9950d201a26d0bd3ee8655\n",
            "  Building wheel for imagehash (setup.py) ... \u001b[?25l\u001b[?25hdone\n",
            "  Created wheel for imagehash: filename=ImageHash-4.2.1-py2.py3-none-any.whl size=295206 sha256=8273089cce186badb64cdf9d62f82305236d80121bc9bc2ac41f5df91f519214\n",
            "  Stored in directory: /root/.cache/pip/wheels/4c/d5/59/5e3e297533ddb09407769762985d134135064c6831e29a914e\n",
            "Successfully built htmlmin imagehash\n",
            "Installing collected packages: fonttools, tangled-up-in-unicode, multimethod, matplotlib, visions, joblib, imagehash, requests, PyYAML, phik, htmlmin, pandas-profiling\n",
            "  Attempting uninstall: matplotlib\n",
            "    Found existing installation: matplotlib 3.1.1\n",
            "    Uninstalling matplotlib-3.1.1:\n",
            "      Successfully uninstalled matplotlib-3.1.1\n",
            "  Attempting uninstall: joblib\n",
            "    Found existing installation: joblib 1.1.0\n",
            "    Uninstalling joblib-1.1.0:\n",
            "      Successfully uninstalled joblib-1.1.0\n",
            "  Attempting uninstall: requests\n",
            "    Found existing installation: requests 2.23.0\n",
            "    Uninstalling requests-2.23.0:\n",
            "      Successfully uninstalled requests-2.23.0\n",
            "  Attempting uninstall: PyYAML\n",
            "    Found existing installation: PyYAML 3.13\n",
            "    Uninstalling PyYAML-3.13:\n",
            "      Successfully uninstalled PyYAML-3.13\n",
            "  Attempting uninstall: pandas-profiling\n",
            "    Found existing installation: pandas-profiling 1.4.1\n",
            "    Uninstalling pandas-profiling-1.4.1:\n",
            "      Successfully uninstalled pandas-profiling-1.4.1\n",
            "\u001b[31mERROR: pip's dependency resolver does not currently take into account all the packages that are installed. This behaviour is the source of the following dependency conflicts.\n",
            "pdpbox 0.2.1 requires matplotlib==3.1.1, but you have matplotlib 3.5.2 which is incompatible.\n",
            "google-colab 1.0.0 requires requests~=2.23.0, but you have requests 2.28.1 which is incompatible.\n",
            "datascience 0.10.6 requires folium==0.2.1, but you have folium 0.8.3 which is incompatible.\n",
            "albumentations 0.1.12 requires imgaug<0.2.7,>=0.2.5, but you have imgaug 0.2.9 which is incompatible.\u001b[0m\n",
            "Successfully installed PyYAML-6.0 fonttools-4.34.4 htmlmin-0.1.12 imagehash-4.2.1 joblib-1.0.1 matplotlib-3.5.2 multimethod-1.8 pandas-profiling-3.1.0 phik-0.12.2 requests-2.28.1 tangled-up-in-unicode-0.1.0 visions-0.7.4\n"
          ]
        },
        {
          "output_type": "display_data",
          "data": {
            "application/vnd.colab-display-data+json": {
              "pip_warning": {
                "packages": [
                  "matplotlib",
                  "mpl_toolkits"
                ]
              }
            }
          },
          "metadata": {}
        },
        {
          "output_type": "stream",
          "name": "stdout",
          "text": [
            "Looking in indexes: https://pypi.org/simple, https://us-python.pkg.dev/colab-wheels/public/simple/\n",
            "Requirement already satisfied: pdpbox in /usr/local/lib/python3.7/dist-packages (0.2.1)\n",
            "Requirement already satisfied: scipy in /usr/local/lib/python3.7/dist-packages (from pdpbox) (1.7.3)\n",
            "Requirement already satisfied: psutil in /usr/local/lib/python3.7/dist-packages (from pdpbox) (5.4.8)\n",
            "Requirement already satisfied: joblib in /usr/local/lib/python3.7/dist-packages (from pdpbox) (1.0.1)\n",
            "Requirement already satisfied: pandas in /usr/local/lib/python3.7/dist-packages (from pdpbox) (1.3.5)\n",
            "Requirement already satisfied: sklearn in /usr/local/lib/python3.7/dist-packages (from pdpbox) (0.0)\n",
            "Requirement already satisfied: numpy in /usr/local/lib/python3.7/dist-packages (from pdpbox) (1.21.6)\n",
            "Collecting matplotlib==3.1.1\n",
            "  Using cached matplotlib-3.1.1-cp37-cp37m-manylinux1_x86_64.whl (13.1 MB)\n",
            "Requirement already satisfied: kiwisolver>=1.0.1 in /usr/local/lib/python3.7/dist-packages (from matplotlib==3.1.1->pdpbox) (1.4.4)\n",
            "Requirement already satisfied: pyparsing!=2.0.4,!=2.1.2,!=2.1.6,>=2.0.1 in /usr/local/lib/python3.7/dist-packages (from matplotlib==3.1.1->pdpbox) (3.0.9)\n",
            "Requirement already satisfied: python-dateutil>=2.1 in /usr/local/lib/python3.7/dist-packages (from matplotlib==3.1.1->pdpbox) (2.8.2)\n",
            "Requirement already satisfied: cycler>=0.10 in /usr/local/lib/python3.7/dist-packages (from matplotlib==3.1.1->pdpbox) (0.11.0)\n",
            "Requirement already satisfied: typing-extensions in /usr/local/lib/python3.7/dist-packages (from kiwisolver>=1.0.1->matplotlib==3.1.1->pdpbox) (4.1.1)\n",
            "Requirement already satisfied: six>=1.5 in /usr/local/lib/python3.7/dist-packages (from python-dateutil>=2.1->matplotlib==3.1.1->pdpbox) (1.15.0)\n",
            "Requirement already satisfied: pytz>=2017.3 in /usr/local/lib/python3.7/dist-packages (from pandas->pdpbox) (2022.1)\n",
            "Requirement already satisfied: scikit-learn in /usr/local/lib/python3.7/dist-packages (from sklearn->pdpbox) (1.0.2)\n",
            "Requirement already satisfied: threadpoolctl>=2.0.0 in /usr/local/lib/python3.7/dist-packages (from scikit-learn->sklearn->pdpbox) (3.1.0)\n",
            "Installing collected packages: matplotlib\n",
            "  Attempting uninstall: matplotlib\n",
            "    Found existing installation: matplotlib 3.5.2\n",
            "    Uninstalling matplotlib-3.5.2:\n",
            "      Successfully uninstalled matplotlib-3.5.2\n",
            "\u001b[31mERROR: pip's dependency resolver does not currently take into account all the packages that are installed. This behaviour is the source of the following dependency conflicts.\n",
            "pandas-profiling 3.1.0 requires matplotlib>=3.2.0, but you have matplotlib 3.1.1 which is incompatible.\n",
            "albumentations 0.1.12 requires imgaug<0.2.7,>=0.2.5, but you have imgaug 0.2.9 which is incompatible.\u001b[0m\n",
            "Successfully installed matplotlib-3.1.1\n"
          ]
        },
        {
          "output_type": "display_data",
          "data": {
            "application/vnd.colab-display-data+json": {
              "pip_warning": {
                "packages": [
                  "matplotlib",
                  "mpl_toolkits"
                ]
              }
            }
          },
          "metadata": {}
        }
      ]
    },
    {
      "cell_type": "code",
      "source": [
        ""
      ],
      "metadata": {
        "id": "jndGFv29AZ-V"
      },
      "execution_count": 2,
      "outputs": []
    },
    {
      "cell_type": "code",
      "execution_count": 3,
      "metadata": {
        "id": "OA2ib69Z0nQK"
      },
      "outputs": [],
      "source": [
        "### 이곳에서 과제를 진행해 주세요 ###\n",
        "import numpy as np\n",
        "import pandas as pd\n",
        "# 파일 불러오기 (local에서 업로드)\n",
        "#from google.colab import files\n",
        "#files.upload()\n"
      ]
    },
    {
      "cell_type": "code",
      "execution_count": 4,
      "metadata": {
        "colab": {
          "base_uri": "https://localhost:8080/"
        },
        "id": "gGpYq2yEpNYp",
        "outputId": "473e23e7-9314-45b0-e89e-5ee303d61266"
      },
      "outputs": [
        {
          "output_type": "stream",
          "name": "stdout",
          "text": [
            "Mounted at /content/drive\n"
          ]
        }
      ],
      "source": [
        "from google.colab import drive\n",
        "drive.mount('/content/drive')"
      ]
    },
    {
      "cell_type": "code",
      "execution_count": 5,
      "metadata": {
        "colab": {
          "base_uri": "https://localhost:8080/",
          "height": 0
        },
        "id": "gzrZ2BSY0tAp",
        "outputId": "9edbf860-ec0b-4a79-a952-3901a21e9b61"
      },
      "outputs": [
        {
          "output_type": "stream",
          "name": "stderr",
          "text": [
            "/usr/local/lib/python3.7/dist-packages/IPython/core/interactiveshell.py:2882: DtypeWarning: Columns (2726) have mixed types.Specify dtype option on import or set low_memory=False.\n",
            "  exec(code_obj, self.user_global_ns, self.user_ns)\n"
          ]
        },
        {
          "output_type": "execute_result",
          "data": {
            "text/plain": [
              "   QUESTID2    FILEDATE  CIGEVER  CIGOFRSM  CIGWILYR  CIGTRY  CIGYFU  CIGMFU  \\\n",
              "0  10000182  10/25/2021        1        99        99      16    9999      99   \n",
              "1  10001831  10/25/2021        1        99        99       8    9999      99   \n",
              "2  10002722  10/25/2021        2        99        99     991    9991      91   \n",
              "3  10002897  10/25/2021        2        99        99     991    9991      91   \n",
              "4  10004677  10/25/2021        2         4         4     991    9991      91   \n",
              "\n",
              "   CIGREC  CIG30USE  ...  GOVTPROG  INCOME  POVERTY3  PDEN10  COUTYP4  \\\n",
              "0       1        30  ...         2       4       3.0       3        3   \n",
              "1       1        24  ...         2       3       3.0       2        2   \n",
              "2      91        91  ...         2       2       3.0       1        1   \n",
              "3      91        91  ...         2       4       3.0       1        1   \n",
              "4      91        91  ...         2       4       3.0       2        2   \n",
              "\n",
              "   MAIIN102  AIIND102  ANALWTQ1Q4_C  VESTRQ1Q4_C  VEREP  \n",
              "0         2         2  16186.579071        40048      2  \n",
              "1         2         2  16809.072854        40022      2  \n",
              "2         2         2   1379.866862        40011      1  \n",
              "3         2         2    422.776340        40007      1  \n",
              "4         2         2    609.829709        40031      1  \n",
              "\n",
              "[5 rows x 2890 columns]"
            ],
            "text/html": [
              "\n",
              "  <div id=\"df-5db55622-e0ed-45d9-8690-0663cca9525e\">\n",
              "    <div class=\"colab-df-container\">\n",
              "      <div>\n",
              "<style scoped>\n",
              "    .dataframe tbody tr th:only-of-type {\n",
              "        vertical-align: middle;\n",
              "    }\n",
              "\n",
              "    .dataframe tbody tr th {\n",
              "        vertical-align: top;\n",
              "    }\n",
              "\n",
              "    .dataframe thead th {\n",
              "        text-align: right;\n",
              "    }\n",
              "</style>\n",
              "<table border=\"1\" class=\"dataframe\">\n",
              "  <thead>\n",
              "    <tr style=\"text-align: right;\">\n",
              "      <th></th>\n",
              "      <th>QUESTID2</th>\n",
              "      <th>FILEDATE</th>\n",
              "      <th>CIGEVER</th>\n",
              "      <th>CIGOFRSM</th>\n",
              "      <th>CIGWILYR</th>\n",
              "      <th>CIGTRY</th>\n",
              "      <th>CIGYFU</th>\n",
              "      <th>CIGMFU</th>\n",
              "      <th>CIGREC</th>\n",
              "      <th>CIG30USE</th>\n",
              "      <th>...</th>\n",
              "      <th>GOVTPROG</th>\n",
              "      <th>INCOME</th>\n",
              "      <th>POVERTY3</th>\n",
              "      <th>PDEN10</th>\n",
              "      <th>COUTYP4</th>\n",
              "      <th>MAIIN102</th>\n",
              "      <th>AIIND102</th>\n",
              "      <th>ANALWTQ1Q4_C</th>\n",
              "      <th>VESTRQ1Q4_C</th>\n",
              "      <th>VEREP</th>\n",
              "    </tr>\n",
              "  </thead>\n",
              "  <tbody>\n",
              "    <tr>\n",
              "      <th>0</th>\n",
              "      <td>10000182</td>\n",
              "      <td>10/25/2021</td>\n",
              "      <td>1</td>\n",
              "      <td>99</td>\n",
              "      <td>99</td>\n",
              "      <td>16</td>\n",
              "      <td>9999</td>\n",
              "      <td>99</td>\n",
              "      <td>1</td>\n",
              "      <td>30</td>\n",
              "      <td>...</td>\n",
              "      <td>2</td>\n",
              "      <td>4</td>\n",
              "      <td>3.0</td>\n",
              "      <td>3</td>\n",
              "      <td>3</td>\n",
              "      <td>2</td>\n",
              "      <td>2</td>\n",
              "      <td>16186.579071</td>\n",
              "      <td>40048</td>\n",
              "      <td>2</td>\n",
              "    </tr>\n",
              "    <tr>\n",
              "      <th>1</th>\n",
              "      <td>10001831</td>\n",
              "      <td>10/25/2021</td>\n",
              "      <td>1</td>\n",
              "      <td>99</td>\n",
              "      <td>99</td>\n",
              "      <td>8</td>\n",
              "      <td>9999</td>\n",
              "      <td>99</td>\n",
              "      <td>1</td>\n",
              "      <td>24</td>\n",
              "      <td>...</td>\n",
              "      <td>2</td>\n",
              "      <td>3</td>\n",
              "      <td>3.0</td>\n",
              "      <td>2</td>\n",
              "      <td>2</td>\n",
              "      <td>2</td>\n",
              "      <td>2</td>\n",
              "      <td>16809.072854</td>\n",
              "      <td>40022</td>\n",
              "      <td>2</td>\n",
              "    </tr>\n",
              "    <tr>\n",
              "      <th>2</th>\n",
              "      <td>10002722</td>\n",
              "      <td>10/25/2021</td>\n",
              "      <td>2</td>\n",
              "      <td>99</td>\n",
              "      <td>99</td>\n",
              "      <td>991</td>\n",
              "      <td>9991</td>\n",
              "      <td>91</td>\n",
              "      <td>91</td>\n",
              "      <td>91</td>\n",
              "      <td>...</td>\n",
              "      <td>2</td>\n",
              "      <td>2</td>\n",
              "      <td>3.0</td>\n",
              "      <td>1</td>\n",
              "      <td>1</td>\n",
              "      <td>2</td>\n",
              "      <td>2</td>\n",
              "      <td>1379.866862</td>\n",
              "      <td>40011</td>\n",
              "      <td>1</td>\n",
              "    </tr>\n",
              "    <tr>\n",
              "      <th>3</th>\n",
              "      <td>10002897</td>\n",
              "      <td>10/25/2021</td>\n",
              "      <td>2</td>\n",
              "      <td>99</td>\n",
              "      <td>99</td>\n",
              "      <td>991</td>\n",
              "      <td>9991</td>\n",
              "      <td>91</td>\n",
              "      <td>91</td>\n",
              "      <td>91</td>\n",
              "      <td>...</td>\n",
              "      <td>2</td>\n",
              "      <td>4</td>\n",
              "      <td>3.0</td>\n",
              "      <td>1</td>\n",
              "      <td>1</td>\n",
              "      <td>2</td>\n",
              "      <td>2</td>\n",
              "      <td>422.776340</td>\n",
              "      <td>40007</td>\n",
              "      <td>1</td>\n",
              "    </tr>\n",
              "    <tr>\n",
              "      <th>4</th>\n",
              "      <td>10004677</td>\n",
              "      <td>10/25/2021</td>\n",
              "      <td>2</td>\n",
              "      <td>4</td>\n",
              "      <td>4</td>\n",
              "      <td>991</td>\n",
              "      <td>9991</td>\n",
              "      <td>91</td>\n",
              "      <td>91</td>\n",
              "      <td>91</td>\n",
              "      <td>...</td>\n",
              "      <td>2</td>\n",
              "      <td>4</td>\n",
              "      <td>3.0</td>\n",
              "      <td>2</td>\n",
              "      <td>2</td>\n",
              "      <td>2</td>\n",
              "      <td>2</td>\n",
              "      <td>609.829709</td>\n",
              "      <td>40031</td>\n",
              "      <td>1</td>\n",
              "    </tr>\n",
              "  </tbody>\n",
              "</table>\n",
              "<p>5 rows × 2890 columns</p>\n",
              "</div>\n",
              "      <button class=\"colab-df-convert\" onclick=\"convertToInteractive('df-5db55622-e0ed-45d9-8690-0663cca9525e')\"\n",
              "              title=\"Convert this dataframe to an interactive table.\"\n",
              "              style=\"display:none;\">\n",
              "        \n",
              "  <svg xmlns=\"http://www.w3.org/2000/svg\" height=\"24px\"viewBox=\"0 0 24 24\"\n",
              "       width=\"24px\">\n",
              "    <path d=\"M0 0h24v24H0V0z\" fill=\"none\"/>\n",
              "    <path d=\"M18.56 5.44l.94 2.06.94-2.06 2.06-.94-2.06-.94-.94-2.06-.94 2.06-2.06.94zm-11 1L8.5 8.5l.94-2.06 2.06-.94-2.06-.94L8.5 2.5l-.94 2.06-2.06.94zm10 10l.94 2.06.94-2.06 2.06-.94-2.06-.94-.94-2.06-.94 2.06-2.06.94z\"/><path d=\"M17.41 7.96l-1.37-1.37c-.4-.4-.92-.59-1.43-.59-.52 0-1.04.2-1.43.59L10.3 9.45l-7.72 7.72c-.78.78-.78 2.05 0 2.83L4 21.41c.39.39.9.59 1.41.59.51 0 1.02-.2 1.41-.59l7.78-7.78 2.81-2.81c.8-.78.8-2.07 0-2.86zM5.41 20L4 18.59l7.72-7.72 1.47 1.35L5.41 20z\"/>\n",
              "  </svg>\n",
              "      </button>\n",
              "      \n",
              "  <style>\n",
              "    .colab-df-container {\n",
              "      display:flex;\n",
              "      flex-wrap:wrap;\n",
              "      gap: 12px;\n",
              "    }\n",
              "\n",
              "    .colab-df-convert {\n",
              "      background-color: #E8F0FE;\n",
              "      border: none;\n",
              "      border-radius: 50%;\n",
              "      cursor: pointer;\n",
              "      display: none;\n",
              "      fill: #1967D2;\n",
              "      height: 32px;\n",
              "      padding: 0 0 0 0;\n",
              "      width: 32px;\n",
              "    }\n",
              "\n",
              "    .colab-df-convert:hover {\n",
              "      background-color: #E2EBFA;\n",
              "      box-shadow: 0px 1px 2px rgba(60, 64, 67, 0.3), 0px 1px 3px 1px rgba(60, 64, 67, 0.15);\n",
              "      fill: #174EA6;\n",
              "    }\n",
              "\n",
              "    [theme=dark] .colab-df-convert {\n",
              "      background-color: #3B4455;\n",
              "      fill: #D2E3FC;\n",
              "    }\n",
              "\n",
              "    [theme=dark] .colab-df-convert:hover {\n",
              "      background-color: #434B5C;\n",
              "      box-shadow: 0px 1px 3px 1px rgba(0, 0, 0, 0.15);\n",
              "      filter: drop-shadow(0px 1px 2px rgba(0, 0, 0, 0.3));\n",
              "      fill: #FFFFFF;\n",
              "    }\n",
              "  </style>\n",
              "\n",
              "      <script>\n",
              "        const buttonEl =\n",
              "          document.querySelector('#df-5db55622-e0ed-45d9-8690-0663cca9525e button.colab-df-convert');\n",
              "        buttonEl.style.display =\n",
              "          google.colab.kernel.accessAllowed ? 'block' : 'none';\n",
              "\n",
              "        async function convertToInteractive(key) {\n",
              "          const element = document.querySelector('#df-5db55622-e0ed-45d9-8690-0663cca9525e');\n",
              "          const dataTable =\n",
              "            await google.colab.kernel.invokeFunction('convertToInteractive',\n",
              "                                                     [key], {});\n",
              "          if (!dataTable) return;\n",
              "\n",
              "          const docLinkHtml = 'Like what you see? Visit the ' +\n",
              "            '<a target=\"_blank\" href=https://colab.research.google.com/notebooks/data_table.ipynb>data table notebook</a>'\n",
              "            + ' to learn more about interactive tables.';\n",
              "          element.innerHTML = '';\n",
              "          dataTable['output_type'] = 'display_data';\n",
              "          await google.colab.output.renderOutput(dataTable, element);\n",
              "          const docLink = document.createElement('div');\n",
              "          docLink.innerHTML = docLinkHtml;\n",
              "          element.appendChild(docLink);\n",
              "        }\n",
              "      </script>\n",
              "    </div>\n",
              "  </div>\n",
              "  "
            ]
          },
          "metadata": {},
          "execution_count": 5
        }
      ],
      "source": [
        "df_yl = pd.read_csv('/content/drive/MyDrive/Colab Notebooks/NSDUH_2020_Tab.txt', sep=\"\\t\", encoding=\"ISO-8859-1\", header=0)\n",
        "df_yl.head()"
      ]
    },
    {
      "cell_type": "code",
      "execution_count": 6,
      "metadata": {
        "colab": {
          "base_uri": "https://localhost:8080/",
          "height": 0
        },
        "id": "ZzMc-2TpFEZ0",
        "outputId": "e4a26504-2570-42c1-9ad5-6176d126239e"
      },
      "outputs": [
        {
          "output_type": "execute_result",
          "data": {
            "text/plain": [
              "   QUESTID2    FILEDATE  CIGEVER  CIGOFRSM  CIGWILYR  CIGTRY  CIGYFU  CIGMFU  \\\n",
              "0  10000182  10/25/2021        1        99        99      16    9999      99   \n",
              "1  10001831  10/25/2021        1        99        99       8    9999      99   \n",
              "2  10002722  10/25/2021        2        99        99     991    9991      91   \n",
              "3  10002897  10/25/2021        2        99        99     991    9991      91   \n",
              "4  10004677  10/25/2021        2         4         4     991    9991      91   \n",
              "\n",
              "   CIGREC  CIG30USE  ...  GOVTPROG  INCOME  POVERTY3  PDEN10  COUTYP4  \\\n",
              "0       1        30  ...         2       4       3.0       3        3   \n",
              "1       1        24  ...         2       3       3.0       2        2   \n",
              "2      91        91  ...         2       2       3.0       1        1   \n",
              "3      91        91  ...         2       4       3.0       1        1   \n",
              "4      91        91  ...         2       4       3.0       2        2   \n",
              "\n",
              "   MAIIN102  AIIND102  ANALWTQ1Q4_C  VESTRQ1Q4_C  VEREP  \n",
              "0         2         2  16186.579071        40048      2  \n",
              "1         2         2  16809.072854        40022      2  \n",
              "2         2         2   1379.866862        40011      1  \n",
              "3         2         2    422.776340        40007      1  \n",
              "4         2         2    609.829709        40031      1  \n",
              "\n",
              "[5 rows x 2890 columns]"
            ],
            "text/html": [
              "\n",
              "  <div id=\"df-ddf3e047-3d0d-43c5-8b3f-e45b6f3528ec\">\n",
              "    <div class=\"colab-df-container\">\n",
              "      <div>\n",
              "<style scoped>\n",
              "    .dataframe tbody tr th:only-of-type {\n",
              "        vertical-align: middle;\n",
              "    }\n",
              "\n",
              "    .dataframe tbody tr th {\n",
              "        vertical-align: top;\n",
              "    }\n",
              "\n",
              "    .dataframe thead th {\n",
              "        text-align: right;\n",
              "    }\n",
              "</style>\n",
              "<table border=\"1\" class=\"dataframe\">\n",
              "  <thead>\n",
              "    <tr style=\"text-align: right;\">\n",
              "      <th></th>\n",
              "      <th>QUESTID2</th>\n",
              "      <th>FILEDATE</th>\n",
              "      <th>CIGEVER</th>\n",
              "      <th>CIGOFRSM</th>\n",
              "      <th>CIGWILYR</th>\n",
              "      <th>CIGTRY</th>\n",
              "      <th>CIGYFU</th>\n",
              "      <th>CIGMFU</th>\n",
              "      <th>CIGREC</th>\n",
              "      <th>CIG30USE</th>\n",
              "      <th>...</th>\n",
              "      <th>GOVTPROG</th>\n",
              "      <th>INCOME</th>\n",
              "      <th>POVERTY3</th>\n",
              "      <th>PDEN10</th>\n",
              "      <th>COUTYP4</th>\n",
              "      <th>MAIIN102</th>\n",
              "      <th>AIIND102</th>\n",
              "      <th>ANALWTQ1Q4_C</th>\n",
              "      <th>VESTRQ1Q4_C</th>\n",
              "      <th>VEREP</th>\n",
              "    </tr>\n",
              "  </thead>\n",
              "  <tbody>\n",
              "    <tr>\n",
              "      <th>0</th>\n",
              "      <td>10000182</td>\n",
              "      <td>10/25/2021</td>\n",
              "      <td>1</td>\n",
              "      <td>99</td>\n",
              "      <td>99</td>\n",
              "      <td>16</td>\n",
              "      <td>9999</td>\n",
              "      <td>99</td>\n",
              "      <td>1</td>\n",
              "      <td>30</td>\n",
              "      <td>...</td>\n",
              "      <td>2</td>\n",
              "      <td>4</td>\n",
              "      <td>3.0</td>\n",
              "      <td>3</td>\n",
              "      <td>3</td>\n",
              "      <td>2</td>\n",
              "      <td>2</td>\n",
              "      <td>16186.579071</td>\n",
              "      <td>40048</td>\n",
              "      <td>2</td>\n",
              "    </tr>\n",
              "    <tr>\n",
              "      <th>1</th>\n",
              "      <td>10001831</td>\n",
              "      <td>10/25/2021</td>\n",
              "      <td>1</td>\n",
              "      <td>99</td>\n",
              "      <td>99</td>\n",
              "      <td>8</td>\n",
              "      <td>9999</td>\n",
              "      <td>99</td>\n",
              "      <td>1</td>\n",
              "      <td>24</td>\n",
              "      <td>...</td>\n",
              "      <td>2</td>\n",
              "      <td>3</td>\n",
              "      <td>3.0</td>\n",
              "      <td>2</td>\n",
              "      <td>2</td>\n",
              "      <td>2</td>\n",
              "      <td>2</td>\n",
              "      <td>16809.072854</td>\n",
              "      <td>40022</td>\n",
              "      <td>2</td>\n",
              "    </tr>\n",
              "    <tr>\n",
              "      <th>2</th>\n",
              "      <td>10002722</td>\n",
              "      <td>10/25/2021</td>\n",
              "      <td>2</td>\n",
              "      <td>99</td>\n",
              "      <td>99</td>\n",
              "      <td>991</td>\n",
              "      <td>9991</td>\n",
              "      <td>91</td>\n",
              "      <td>91</td>\n",
              "      <td>91</td>\n",
              "      <td>...</td>\n",
              "      <td>2</td>\n",
              "      <td>2</td>\n",
              "      <td>3.0</td>\n",
              "      <td>1</td>\n",
              "      <td>1</td>\n",
              "      <td>2</td>\n",
              "      <td>2</td>\n",
              "      <td>1379.866862</td>\n",
              "      <td>40011</td>\n",
              "      <td>1</td>\n",
              "    </tr>\n",
              "    <tr>\n",
              "      <th>3</th>\n",
              "      <td>10002897</td>\n",
              "      <td>10/25/2021</td>\n",
              "      <td>2</td>\n",
              "      <td>99</td>\n",
              "      <td>99</td>\n",
              "      <td>991</td>\n",
              "      <td>9991</td>\n",
              "      <td>91</td>\n",
              "      <td>91</td>\n",
              "      <td>91</td>\n",
              "      <td>...</td>\n",
              "      <td>2</td>\n",
              "      <td>4</td>\n",
              "      <td>3.0</td>\n",
              "      <td>1</td>\n",
              "      <td>1</td>\n",
              "      <td>2</td>\n",
              "      <td>2</td>\n",
              "      <td>422.776340</td>\n",
              "      <td>40007</td>\n",
              "      <td>1</td>\n",
              "    </tr>\n",
              "    <tr>\n",
              "      <th>4</th>\n",
              "      <td>10004677</td>\n",
              "      <td>10/25/2021</td>\n",
              "      <td>2</td>\n",
              "      <td>4</td>\n",
              "      <td>4</td>\n",
              "      <td>991</td>\n",
              "      <td>9991</td>\n",
              "      <td>91</td>\n",
              "      <td>91</td>\n",
              "      <td>91</td>\n",
              "      <td>...</td>\n",
              "      <td>2</td>\n",
              "      <td>4</td>\n",
              "      <td>3.0</td>\n",
              "      <td>2</td>\n",
              "      <td>2</td>\n",
              "      <td>2</td>\n",
              "      <td>2</td>\n",
              "      <td>609.829709</td>\n",
              "      <td>40031</td>\n",
              "      <td>1</td>\n",
              "    </tr>\n",
              "  </tbody>\n",
              "</table>\n",
              "<p>5 rows × 2890 columns</p>\n",
              "</div>\n",
              "      <button class=\"colab-df-convert\" onclick=\"convertToInteractive('df-ddf3e047-3d0d-43c5-8b3f-e45b6f3528ec')\"\n",
              "              title=\"Convert this dataframe to an interactive table.\"\n",
              "              style=\"display:none;\">\n",
              "        \n",
              "  <svg xmlns=\"http://www.w3.org/2000/svg\" height=\"24px\"viewBox=\"0 0 24 24\"\n",
              "       width=\"24px\">\n",
              "    <path d=\"M0 0h24v24H0V0z\" fill=\"none\"/>\n",
              "    <path d=\"M18.56 5.44l.94 2.06.94-2.06 2.06-.94-2.06-.94-.94-2.06-.94 2.06-2.06.94zm-11 1L8.5 8.5l.94-2.06 2.06-.94-2.06-.94L8.5 2.5l-.94 2.06-2.06.94zm10 10l.94 2.06.94-2.06 2.06-.94-2.06-.94-.94-2.06-.94 2.06-2.06.94z\"/><path d=\"M17.41 7.96l-1.37-1.37c-.4-.4-.92-.59-1.43-.59-.52 0-1.04.2-1.43.59L10.3 9.45l-7.72 7.72c-.78.78-.78 2.05 0 2.83L4 21.41c.39.39.9.59 1.41.59.51 0 1.02-.2 1.41-.59l7.78-7.78 2.81-2.81c.8-.78.8-2.07 0-2.86zM5.41 20L4 18.59l7.72-7.72 1.47 1.35L5.41 20z\"/>\n",
              "  </svg>\n",
              "      </button>\n",
              "      \n",
              "  <style>\n",
              "    .colab-df-container {\n",
              "      display:flex;\n",
              "      flex-wrap:wrap;\n",
              "      gap: 12px;\n",
              "    }\n",
              "\n",
              "    .colab-df-convert {\n",
              "      background-color: #E8F0FE;\n",
              "      border: none;\n",
              "      border-radius: 50%;\n",
              "      cursor: pointer;\n",
              "      display: none;\n",
              "      fill: #1967D2;\n",
              "      height: 32px;\n",
              "      padding: 0 0 0 0;\n",
              "      width: 32px;\n",
              "    }\n",
              "\n",
              "    .colab-df-convert:hover {\n",
              "      background-color: #E2EBFA;\n",
              "      box-shadow: 0px 1px 2px rgba(60, 64, 67, 0.3), 0px 1px 3px 1px rgba(60, 64, 67, 0.15);\n",
              "      fill: #174EA6;\n",
              "    }\n",
              "\n",
              "    [theme=dark] .colab-df-convert {\n",
              "      background-color: #3B4455;\n",
              "      fill: #D2E3FC;\n",
              "    }\n",
              "\n",
              "    [theme=dark] .colab-df-convert:hover {\n",
              "      background-color: #434B5C;\n",
              "      box-shadow: 0px 1px 3px 1px rgba(0, 0, 0, 0.15);\n",
              "      filter: drop-shadow(0px 1px 2px rgba(0, 0, 0, 0.3));\n",
              "      fill: #FFFFFF;\n",
              "    }\n",
              "  </style>\n",
              "\n",
              "      <script>\n",
              "        const buttonEl =\n",
              "          document.querySelector('#df-ddf3e047-3d0d-43c5-8b3f-e45b6f3528ec button.colab-df-convert');\n",
              "        buttonEl.style.display =\n",
              "          google.colab.kernel.accessAllowed ? 'block' : 'none';\n",
              "\n",
              "        async function convertToInteractive(key) {\n",
              "          const element = document.querySelector('#df-ddf3e047-3d0d-43c5-8b3f-e45b6f3528ec');\n",
              "          const dataTable =\n",
              "            await google.colab.kernel.invokeFunction('convertToInteractive',\n",
              "                                                     [key], {});\n",
              "          if (!dataTable) return;\n",
              "\n",
              "          const docLinkHtml = 'Like what you see? Visit the ' +\n",
              "            '<a target=\"_blank\" href=https://colab.research.google.com/notebooks/data_table.ipynb>data table notebook</a>'\n",
              "            + ' to learn more about interactive tables.';\n",
              "          element.innerHTML = '';\n",
              "          dataTable['output_type'] = 'display_data';\n",
              "          await google.colab.output.renderOutput(dataTable, element);\n",
              "          const docLink = document.createElement('div');\n",
              "          docLink.innerHTML = docLinkHtml;\n",
              "          element.appendChild(docLink);\n",
              "        }\n",
              "      </script>\n",
              "    </div>\n",
              "  </div>\n",
              "  "
            ]
          },
          "metadata": {},
          "execution_count": 6
        }
      ],
      "source": [
        "df_yl.head()\n"
      ]
    },
    {
      "cell_type": "code",
      "execution_count": 7,
      "metadata": {
        "colab": {
          "base_uri": "https://localhost:8080/"
        },
        "id": "ciAxhZgYF1r3",
        "outputId": "0959bb63-c951-49dd-e639-3363829a2ccb"
      },
      "outputs": [
        {
          "output_type": "execute_result",
          "data": {
            "text/plain": [
              "<bound method DataFrame.info of        QUESTID2    FILEDATE  CIGEVER  CIGOFRSM  CIGWILYR  CIGTRY  CIGYFU  \\\n",
              "0      10000182  10/25/2021        1        99        99      16    9999   \n",
              "1      10001831  10/25/2021        1        99        99       8    9999   \n",
              "2      10002722  10/25/2021        2        99        99     991    9991   \n",
              "3      10002897  10/25/2021        2        99        99     991    9991   \n",
              "4      10004677  10/25/2021        2         4         4     991    9991   \n",
              "...         ...         ...      ...       ...       ...     ...     ...   \n",
              "32888  43070618  10/25/2021        2        99        99     991    9991   \n",
              "32889  43071867  10/25/2021        2        99        99     991    9991   \n",
              "32890  43074600  10/25/2021        2         4         4     991    9991   \n",
              "32891  43074630  10/25/2021        2        99        99     991    9991   \n",
              "32892  43075406  10/25/2021        1        99        99      15    9999   \n",
              "\n",
              "       CIGMFU  CIGREC  CIG30USE  ...  GOVTPROG  INCOME  POVERTY3  PDEN10  \\\n",
              "0          99       1        30  ...         2       4       3.0       3   \n",
              "1          99       1        24  ...         2       3       3.0       2   \n",
              "2          91      91        91  ...         2       2       3.0       1   \n",
              "3          91      91        91  ...         2       4       3.0       1   \n",
              "4          91      91        91  ...         2       4       3.0       2   \n",
              "...       ...     ...       ...  ...       ...     ...       ...     ...   \n",
              "32888      91      91        91  ...         2       4       3.0       2   \n",
              "32889      91      91        91  ...         2       4       3.0       1   \n",
              "32890      91      91        91  ...         2       3       3.0       2   \n",
              "32891      91      91        91  ...         2       4       3.0       2   \n",
              "32892      99       1        30  ...         1       4       3.0       1   \n",
              "\n",
              "       COUTYP4  MAIIN102  AIIND102  ANALWTQ1Q4_C  VESTRQ1Q4_C  VEREP  \n",
              "0            3         2         2  16186.579071        40048      2  \n",
              "1            2         2         2  16809.072854        40022      2  \n",
              "2            1         2         2   1379.866862        40011      1  \n",
              "3            1         2         2    422.776340        40007      1  \n",
              "4            2         2         2    609.829709        40031      1  \n",
              "...        ...       ...       ...           ...          ...    ...  \n",
              "32888        2         2         2    968.966425        40039      1  \n",
              "32889        1         2         2    329.312176        40010      1  \n",
              "32890        2         2         2    148.718934        40043      1  \n",
              "32891        2         2         2    982.305736        40022      1  \n",
              "32892        1         2         2   8987.391257        40032      1  \n",
              "\n",
              "[32893 rows x 2890 columns]>"
            ]
          },
          "metadata": {},
          "execution_count": 7
        }
      ],
      "source": [
        "df_yl.info"
      ]
    },
    {
      "cell_type": "code",
      "execution_count": 8,
      "metadata": {
        "colab": {
          "base_uri": "https://localhost:8080/"
        },
        "id": "AGacySNUqT75",
        "outputId": "3f42aa91-3c57-4edc-e663-d4afbcce661c"
      },
      "outputs": [
        {
          "output_type": "execute_result",
          "data": {
            "text/plain": [
              "(32893, 2890)"
            ]
          },
          "metadata": {},
          "execution_count": 8
        }
      ],
      "source": [
        "df_yl.shape"
      ]
    },
    {
      "cell_type": "markdown",
      "source": [
        "## 사용할 데이터 정리 (column, target)"
      ],
      "metadata": {
        "id": "KqQDVdgD-INO"
      }
    },
    {
      "cell_type": "code",
      "source": [
        ""
      ],
      "metadata": {
        "id": "nT0lh5pOHTK-"
      },
      "execution_count": 8,
      "outputs": []
    },
    {
      "cell_type": "code",
      "source": [
        ""
      ],
      "metadata": {
        "id": "EA0Z90KpOKoI"
      },
      "execution_count": 8,
      "outputs": []
    },
    {
      "cell_type": "code",
      "source": [
        ""
      ],
      "metadata": {
        "id": "BouBve6NVCFD"
      },
      "execution_count": 8,
      "outputs": []
    },
    {
      "cell_type": "code",
      "source": [
        ""
      ],
      "metadata": {
        "id": "QmH--iSDb5h7"
      },
      "execution_count": 8,
      "outputs": []
    },
    {
      "cell_type": "code",
      "source": [
        ""
      ],
      "metadata": {
        "id": "ZYxvEdamiw-5"
      },
      "execution_count": 8,
      "outputs": []
    },
    {
      "cell_type": "code",
      "source": [
        ""
      ],
      "metadata": {
        "id": "YBXBJXDupob3"
      },
      "execution_count": 8,
      "outputs": []
    },
    {
      "cell_type": "code",
      "source": [
        ""
      ],
      "metadata": {
        "id": "tkj8407Bwf5D"
      },
      "execution_count": 8,
      "outputs": []
    },
    {
      "cell_type": "code",
      "source": [
        ""
      ],
      "metadata": {
        "id": "hKPSF3wr3XXn"
      },
      "execution_count": 8,
      "outputs": []
    },
    {
      "cell_type": "code",
      "source": [
        "col= ['CIG30USE',  # Number of days smoked cigarettes in past month\n",
        "      'IRALCFY',  # Number of days used alcohol in past year\n",
        "      'HEALTH',     # Health condition\n",
        "      'WRKDHRSWK2',  # Number of hours worked in past week\n",
        "      'IRHHSIZ2', # Number of people in household\n",
        "      'IRKI17_2',  # Number of kids <18 y/o\n",
        "      ]    \n",
        "  # [drug_use] : IMPUTED DSM-5 SUBSTANCE USE DISORDER\n"
      ],
      "metadata": {
        "id": "UcVO6tbdEawY"
      },
      "execution_count": 9,
      "outputs": []
    },
    {
      "cell_type": "code",
      "source": [
        "drug_use = ['IRPYUD5ALC', # ALCOHOL USE DISORDER IN THE PAST YEAR - IMP REV\n",
        "            'IRPYUD5MRJ', # MARIJUANA USE DISORDER IN THE PAST YEAR - IMP REV\n",
        "            'IRPYUD5COC', # COCAINE USE DISORDER IN THE PAST YEAR - IMP REV\n",
        "            'IRPYUD5HER', # HEROIN USE DISORDER IN THE PAST YEAR - IMP REV\n",
        "            'IRPYUD5HAL', # HALLUCINOGEN USE DISORDER IN THE PAST YEAR - IMP REV\n",
        "            'IRPYUD5INH', # INHALANT USE DISORDER IN THE PAST YEAR - IMP REV\n",
        "            'IRPYUD5MTH', # METHAMPHETAMINE USE DISORDER IN THE PAST YEAR - IMP REV\n",
        "            'IRPYUD5PNR', # PAIN RELIEVER USE DISORDER IN THE PAST YEAR - IMP REV\n",
        "            'IRPYUD5TRQ', # TRANQUILIZER USE DISORDER IN THE PAST YEAR - IMP REV\n",
        "            'IRPYUD5STM', # STIMULANT USE DISORDER IN THE PAST YEAR - IMP REV\n",
        "            'IRPYUD5SED'] # SEDATIVE USE DISORDER IN THE PAST YEAR - IMP REV "
      ],
      "metadata": {
        "id": "JZVD-o8BA69A"
      },
      "execution_count": 10,
      "outputs": []
    },
    {
      "cell_type": "code",
      "source": [
        "alcohol_use = ['ALCEVER',  # EVER HAD DRINK OF ALCOHOLIC BEVERAGE\n",
        "               'ALCTRY',   # AGE WHEN FIRST DRANK ALCOHOLIC BEVERAGE 1-66\n",
        "               'ALCREC',   # TIME SINCE LAST DRANK ALCOHOLIC BEVERAGE\n",
        "               'ALCYRTOT', # TOTAL # OF DAYS USED ALCOHOL IN PAST 12 MOS\n",
        "               'ALBSTWAY', # EASIEST WAY TO TELL US # DAYS DRANK ALCOHOL\n",
        "               'ALCDAYS',  # DAYS HAD ONE OR MORE DRINKS PAST 30 DAYS  1-30\n",
        "               'ALCUS30D', # USUAL # OF DRINKS PER DAY PAST 30 DAYS\n",
        "               ]"
      ],
      "metadata": {
        "id": "rcsPPGtM2CR4"
      },
      "execution_count": 11,
      "outputs": []
    },
    {
      "cell_type": "code",
      "source": [
        "mental_health = ['DSTNRV30', # HOW OFTEN FELT NERVOUS PAST 30 DAY / 1-5 , 85, 94-99\n",
        "                 'DSTHOP30', # During the past 30 days, how often did you feel hopeless? \n",
        "                 'DSTRST30', # During the past 30 days, how often did you feel restless or fidgety?\n",
        "                 'DSTCHR30', # During the past 30 days, how often did you feel so sad or depressed that nothing could cheer you up? \n",
        "                 'DSTEFF30', # During the past 30 days, how often did you feel that everything was an effort?\n",
        "                 'DSTNGD30', # During the past 30 days, how often did you feel down on yourself, no good, or worthless?\n",
        "                 'K6SCMAX',   #a score with values ranging from 0 to 24 indicating the level of psychological distress during the worst month of the past year, that was not the past 30 days. \n",
        "                 'WHODASC2'  #f the daily activities that a respondent indicated having \"moderate\" or \"severe\" difficulty performing, or if the respondent indicated not performing the activity due to problems with emotions, nerves, or mental health.\n",
        "                 ]  "
      ],
      "metadata": {
        "id": "q8Q9nF80pjv4"
      },
      "execution_count": 12,
      "outputs": []
    },
    {
      "cell_type": "code",
      "source": [
        "religious =['SNRLGSVC', # During the past 12 months, how many times did you attend religious services?\n",
        "             'SNRLGIMP', # Your religious beliefs are a very important part of your life.\n",
        "             'SNRLDCSN', # Your religious beliefs influence how you make decisions in your life.\n",
        "             'SNRLFRND'] # It is important that your friends share your religious beliefs"
      ],
      "metadata": {
        "id": "Q4cyTkM5EMGC"
      },
      "execution_count": 13,
      "outputs": []
    },
    {
      "cell_type": "code",
      "source": [
        "#df_AD = df_yl[df_yl.columns[pd.Series(df_yl.columns).str.startswith('AD')]]\n",
        "Depression =['AMDELT', # Life time major depressive episode\n",
        "             'AHLTMDE', # whether an adult reported seeing or talking to a health professional about MDE in the past year\n",
        "             'AALTMDE', # whether an adult reported seeing or talking to an alternative service professional about MDE in the past year.\n",
        "             'DSTWORST', # Was there a month in the past 12 months when you felt more depressed, anxious, or emotionally stressed than you felt during the past 30 days?\n",
        "             'ADDPREV',  # SEVERAL DAYS OR LNGR WHEN FELT SAD/EMPTY/DPRSD\n",
        "             'SMIPP_U'   # The predicted mental illness variables (e.g., SMIYR_U, AMIYR_U) \n",
        "                             # that were derived from the 2012 model were examined to determine how they were associated with the mental health predictor variables in the 2012 model.\n",
        "                             # It was found that the 2012 model significantly overestimated the proportion of adults aged 18 or older with SMI (and those with AMI) who had suicidal thoughts in the past year\n",
        "                             # and also the proportion of adults who had MDE in the past year. \n",
        "             ]"
      ],
      "metadata": {
        "id": "aWByLiLsGPMm"
      },
      "execution_count": 14,
      "outputs": []
    },
    {
      "cell_type": "code",
      "source": [
        "demographics = ['CATAG6', # Age category 6 levels\n",
        "                'IRSEX',  # sex\n",
        "                'IREDUHIGHST2', # eudcation \n",
        "                'IRPINC3', # resp tot Income\n",
        "                'IRFAMIN3', # tot fam income\n",
        "                # 'INCOME', # Total family income record\n",
        "                #'POVERTY3', # RC-Poverty Level\n",
        "                'PDEN10',  # Population density _ Geographic\n",
        "                'COUTYP4', # County metro/nonmetro status\n",
        "                ] "
      ],
      "metadata": {
        "id": "oP-YTQqgXxuB"
      },
      "execution_count": 15,
      "outputs": []
    },
    {
      "cell_type": "code",
      "source": [
        "df_yl.K6SCYR.value_counts()"
      ],
      "metadata": {
        "colab": {
          "base_uri": "https://localhost:8080/"
        },
        "id": "07OuYXDC9FLy",
        "outputId": "d0249a96-f3ce-46ba-ea7d-25c120fde741"
      },
      "execution_count": 16,
      "outputs": [
        {
          "output_type": "execute_result",
          "data": {
            "text/plain": [
              "12.0    672\n",
              "6.0     598\n",
              "18.0    523\n",
              "7.0     515\n",
              "10.0    506\n",
              "5.0     495\n",
              "4.0     494\n",
              "11.0    471\n",
              "9.0     469\n",
              "24.0    468\n",
              "8.0     457\n",
              "13.0    456\n",
              "14.0    447\n",
              "3.0     434\n",
              "16.0    396\n",
              "15.0    383\n",
              "2.0     343\n",
              "17.0    342\n",
              "19.0    273\n",
              "20.0    225\n",
              "21.0    201\n",
              "1.0     175\n",
              "22.0    172\n",
              "23.0    123\n",
              "0.0      49\n",
              "Name: K6SCYR, dtype: int64"
            ]
          },
          "metadata": {},
          "execution_count": 16
        }
      ]
    },
    {
      "cell_type": "code",
      "source": [
        "#df_demog= df_yl[demographics]\n",
        "#df_depre= df_yl[Depression]\n",
        "#df_mental= df_yl[mental_health]\n",
        "#df_relig= df_yl[religious]\n",
        "#df_col= df_yl[col]\n",
        "#df_demog= df_yl[alcohol_use]\n",
        "df_drug_yl= df_yl[drug_use]\n",
        "df_drug_yl['AnyDrug']= df_drug_yl.sum(axis = 1)\n"
      ],
      "metadata": {
        "colab": {
          "base_uri": "https://localhost:8080/"
        },
        "id": "xdFWCgXERpBn",
        "outputId": "7bebc944-d095-422f-b5b7-eb177c5c4ede"
      },
      "execution_count": 17,
      "outputs": [
        {
          "output_type": "stream",
          "name": "stderr",
          "text": [
            "/usr/local/lib/python3.7/dist-packages/ipykernel_launcher.py:8: SettingWithCopyWarning: \n",
            "A value is trying to be set on a copy of a slice from a DataFrame.\n",
            "Try using .loc[row_indexer,col_indexer] = value instead\n",
            "\n",
            "See the caveats in the documentation: https://pandas.pydata.org/pandas-docs/stable/user_guide/indexing.html#returning-a-view-versus-a-copy\n",
            "  \n"
          ]
        }
      ]
    },
    {
      "cell_type": "code",
      "source": [
        "df_drug_yl.head()"
      ],
      "metadata": {
        "colab": {
          "base_uri": "https://localhost:8080/",
          "height": 0
        },
        "id": "9Znyr_KMBY2D",
        "outputId": "c9300cc7-175f-4249-f4c4-d0a4026ac26b"
      },
      "execution_count": 18,
      "outputs": [
        {
          "output_type": "execute_result",
          "data": {
            "text/plain": [
              "   IRPYUD5ALC  IRPYUD5MRJ  IRPYUD5COC  IRPYUD5HER  IRPYUD5HAL  IRPYUD5INH  \\\n",
              "0           0           0           0           0           0           0   \n",
              "1           1           0           0           0           0           0   \n",
              "2           0           0           0           0           0           0   \n",
              "3           0           0           0           0           0           0   \n",
              "4           0           0           0           0           0           0   \n",
              "\n",
              "   IRPYUD5MTH  IRPYUD5PNR  IRPYUD5TRQ  IRPYUD5STM  IRPYUD5SED  AnyDrug  \n",
              "0           0           0           0           0           0        0  \n",
              "1           0           0           0           0           0        1  \n",
              "2           0           0           0           0           0        0  \n",
              "3           0           0           0           0           0        0  \n",
              "4           0           0           0           0           0        0  "
            ],
            "text/html": [
              "\n",
              "  <div id=\"df-59c6eac5-3d76-465c-a4f9-61e7cc701b4f\">\n",
              "    <div class=\"colab-df-container\">\n",
              "      <div>\n",
              "<style scoped>\n",
              "    .dataframe tbody tr th:only-of-type {\n",
              "        vertical-align: middle;\n",
              "    }\n",
              "\n",
              "    .dataframe tbody tr th {\n",
              "        vertical-align: top;\n",
              "    }\n",
              "\n",
              "    .dataframe thead th {\n",
              "        text-align: right;\n",
              "    }\n",
              "</style>\n",
              "<table border=\"1\" class=\"dataframe\">\n",
              "  <thead>\n",
              "    <tr style=\"text-align: right;\">\n",
              "      <th></th>\n",
              "      <th>IRPYUD5ALC</th>\n",
              "      <th>IRPYUD5MRJ</th>\n",
              "      <th>IRPYUD5COC</th>\n",
              "      <th>IRPYUD5HER</th>\n",
              "      <th>IRPYUD5HAL</th>\n",
              "      <th>IRPYUD5INH</th>\n",
              "      <th>IRPYUD5MTH</th>\n",
              "      <th>IRPYUD5PNR</th>\n",
              "      <th>IRPYUD5TRQ</th>\n",
              "      <th>IRPYUD5STM</th>\n",
              "      <th>IRPYUD5SED</th>\n",
              "      <th>AnyDrug</th>\n",
              "    </tr>\n",
              "  </thead>\n",
              "  <tbody>\n",
              "    <tr>\n",
              "      <th>0</th>\n",
              "      <td>0</td>\n",
              "      <td>0</td>\n",
              "      <td>0</td>\n",
              "      <td>0</td>\n",
              "      <td>0</td>\n",
              "      <td>0</td>\n",
              "      <td>0</td>\n",
              "      <td>0</td>\n",
              "      <td>0</td>\n",
              "      <td>0</td>\n",
              "      <td>0</td>\n",
              "      <td>0</td>\n",
              "    </tr>\n",
              "    <tr>\n",
              "      <th>1</th>\n",
              "      <td>1</td>\n",
              "      <td>0</td>\n",
              "      <td>0</td>\n",
              "      <td>0</td>\n",
              "      <td>0</td>\n",
              "      <td>0</td>\n",
              "      <td>0</td>\n",
              "      <td>0</td>\n",
              "      <td>0</td>\n",
              "      <td>0</td>\n",
              "      <td>0</td>\n",
              "      <td>1</td>\n",
              "    </tr>\n",
              "    <tr>\n",
              "      <th>2</th>\n",
              "      <td>0</td>\n",
              "      <td>0</td>\n",
              "      <td>0</td>\n",
              "      <td>0</td>\n",
              "      <td>0</td>\n",
              "      <td>0</td>\n",
              "      <td>0</td>\n",
              "      <td>0</td>\n",
              "      <td>0</td>\n",
              "      <td>0</td>\n",
              "      <td>0</td>\n",
              "      <td>0</td>\n",
              "    </tr>\n",
              "    <tr>\n",
              "      <th>3</th>\n",
              "      <td>0</td>\n",
              "      <td>0</td>\n",
              "      <td>0</td>\n",
              "      <td>0</td>\n",
              "      <td>0</td>\n",
              "      <td>0</td>\n",
              "      <td>0</td>\n",
              "      <td>0</td>\n",
              "      <td>0</td>\n",
              "      <td>0</td>\n",
              "      <td>0</td>\n",
              "      <td>0</td>\n",
              "    </tr>\n",
              "    <tr>\n",
              "      <th>4</th>\n",
              "      <td>0</td>\n",
              "      <td>0</td>\n",
              "      <td>0</td>\n",
              "      <td>0</td>\n",
              "      <td>0</td>\n",
              "      <td>0</td>\n",
              "      <td>0</td>\n",
              "      <td>0</td>\n",
              "      <td>0</td>\n",
              "      <td>0</td>\n",
              "      <td>0</td>\n",
              "      <td>0</td>\n",
              "    </tr>\n",
              "  </tbody>\n",
              "</table>\n",
              "</div>\n",
              "      <button class=\"colab-df-convert\" onclick=\"convertToInteractive('df-59c6eac5-3d76-465c-a4f9-61e7cc701b4f')\"\n",
              "              title=\"Convert this dataframe to an interactive table.\"\n",
              "              style=\"display:none;\">\n",
              "        \n",
              "  <svg xmlns=\"http://www.w3.org/2000/svg\" height=\"24px\"viewBox=\"0 0 24 24\"\n",
              "       width=\"24px\">\n",
              "    <path d=\"M0 0h24v24H0V0z\" fill=\"none\"/>\n",
              "    <path d=\"M18.56 5.44l.94 2.06.94-2.06 2.06-.94-2.06-.94-.94-2.06-.94 2.06-2.06.94zm-11 1L8.5 8.5l.94-2.06 2.06-.94-2.06-.94L8.5 2.5l-.94 2.06-2.06.94zm10 10l.94 2.06.94-2.06 2.06-.94-2.06-.94-.94-2.06-.94 2.06-2.06.94z\"/><path d=\"M17.41 7.96l-1.37-1.37c-.4-.4-.92-.59-1.43-.59-.52 0-1.04.2-1.43.59L10.3 9.45l-7.72 7.72c-.78.78-.78 2.05 0 2.83L4 21.41c.39.39.9.59 1.41.59.51 0 1.02-.2 1.41-.59l7.78-7.78 2.81-2.81c.8-.78.8-2.07 0-2.86zM5.41 20L4 18.59l7.72-7.72 1.47 1.35L5.41 20z\"/>\n",
              "  </svg>\n",
              "      </button>\n",
              "      \n",
              "  <style>\n",
              "    .colab-df-container {\n",
              "      display:flex;\n",
              "      flex-wrap:wrap;\n",
              "      gap: 12px;\n",
              "    }\n",
              "\n",
              "    .colab-df-convert {\n",
              "      background-color: #E8F0FE;\n",
              "      border: none;\n",
              "      border-radius: 50%;\n",
              "      cursor: pointer;\n",
              "      display: none;\n",
              "      fill: #1967D2;\n",
              "      height: 32px;\n",
              "      padding: 0 0 0 0;\n",
              "      width: 32px;\n",
              "    }\n",
              "\n",
              "    .colab-df-convert:hover {\n",
              "      background-color: #E2EBFA;\n",
              "      box-shadow: 0px 1px 2px rgba(60, 64, 67, 0.3), 0px 1px 3px 1px rgba(60, 64, 67, 0.15);\n",
              "      fill: #174EA6;\n",
              "    }\n",
              "\n",
              "    [theme=dark] .colab-df-convert {\n",
              "      background-color: #3B4455;\n",
              "      fill: #D2E3FC;\n",
              "    }\n",
              "\n",
              "    [theme=dark] .colab-df-convert:hover {\n",
              "      background-color: #434B5C;\n",
              "      box-shadow: 0px 1px 3px 1px rgba(0, 0, 0, 0.15);\n",
              "      filter: drop-shadow(0px 1px 2px rgba(0, 0, 0, 0.3));\n",
              "      fill: #FFFFFF;\n",
              "    }\n",
              "  </style>\n",
              "\n",
              "      <script>\n",
              "        const buttonEl =\n",
              "          document.querySelector('#df-59c6eac5-3d76-465c-a4f9-61e7cc701b4f button.colab-df-convert');\n",
              "        buttonEl.style.display =\n",
              "          google.colab.kernel.accessAllowed ? 'block' : 'none';\n",
              "\n",
              "        async function convertToInteractive(key) {\n",
              "          const element = document.querySelector('#df-59c6eac5-3d76-465c-a4f9-61e7cc701b4f');\n",
              "          const dataTable =\n",
              "            await google.colab.kernel.invokeFunction('convertToInteractive',\n",
              "                                                     [key], {});\n",
              "          if (!dataTable) return;\n",
              "\n",
              "          const docLinkHtml = 'Like what you see? Visit the ' +\n",
              "            '<a target=\"_blank\" href=https://colab.research.google.com/notebooks/data_table.ipynb>data table notebook</a>'\n",
              "            + ' to learn more about interactive tables.';\n",
              "          element.innerHTML = '';\n",
              "          dataTable['output_type'] = 'display_data';\n",
              "          await google.colab.output.renderOutput(dataTable, element);\n",
              "          const docLink = document.createElement('div');\n",
              "          docLink.innerHTML = docLinkHtml;\n",
              "          element.appendChild(docLink);\n",
              "        }\n",
              "      </script>\n",
              "    </div>\n",
              "  </div>\n",
              "  "
            ]
          },
          "metadata": {},
          "execution_count": 18
        }
      ]
    },
    {
      "cell_type": "code",
      "source": [
        "df_drug_yl['AnyDrug'].value_counts()"
      ],
      "metadata": {
        "colab": {
          "base_uri": "https://localhost:8080/"
        },
        "id": "ro1Q41PGU4_B",
        "outputId": "8e131e81-c8d0-46b8-9fed-e494ecc7ab0a"
      },
      "execution_count": 19,
      "outputs": [
        {
          "output_type": "execute_result",
          "data": {
            "text/plain": [
              "0    27550\n",
              "1     4164\n",
              "2      954\n",
              "3      144\n",
              "4       44\n",
              "5       28\n",
              "6        8\n",
              "7        1\n",
              "Name: AnyDrug, dtype: int64"
            ]
          },
          "metadata": {},
          "execution_count": 19
        }
      ]
    },
    {
      "cell_type": "code",
      "source": [
        "df_drug_yl.replace({'AnyDrug':[2,3,4,5,6,7]},1, inplace = True)\n",
        "df_drug_yl.replace({'AnyDrug':[2,3,4,5,6,7]},1, inplace = True)"
      ],
      "metadata": {
        "colab": {
          "base_uri": "https://localhost:8080/"
        },
        "id": "xrpXOFFmUV50",
        "outputId": "591d9d0d-aacb-42c1-884a-fb83c159f5d9"
      },
      "execution_count": 20,
      "outputs": [
        {
          "output_type": "stream",
          "name": "stderr",
          "text": [
            "/usr/local/lib/python3.7/dist-packages/pandas/core/indexing.py:1951: SettingWithCopyWarning: \n",
            "A value is trying to be set on a copy of a slice from a DataFrame.\n",
            "Try using .loc[row_indexer,col_indexer] = value instead\n",
            "\n",
            "See the caveats in the documentation: https://pandas.pydata.org/pandas-docs/stable/user_guide/indexing.html#returning-a-view-versus-a-copy\n",
            "  self.obj[selected_item_labels] = value\n"
          ]
        }
      ]
    },
    {
      "cell_type": "code",
      "source": [
        "columns_name = ['QUESTID2'] + demographics+ Depression+ mental_health+religious+col\n",
        "df_20 = pd.DataFrame(df_yl,columns =columns_name)"
      ],
      "metadata": {
        "id": "4FUbnmcKWV0V"
      },
      "execution_count": 21,
      "outputs": []
    },
    {
      "cell_type": "code",
      "source": [
        "df_20['target'] = df_drug_yl['AnyDrug']"
      ],
      "metadata": {
        "id": "NxYGk2Z683Sl"
      },
      "execution_count": 22,
      "outputs": []
    },
    {
      "cell_type": "code",
      "source": [
        "df_20.head()"
      ],
      "metadata": {
        "colab": {
          "base_uri": "https://localhost:8080/",
          "height": 0
        },
        "id": "vWO8i8kZ_aYU",
        "outputId": "8fefbcb7-3f74-471b-f297-ba33b76ff76f"
      },
      "execution_count": 23,
      "outputs": [
        {
          "output_type": "execute_result",
          "data": {
            "text/plain": [
              "   QUESTID2  CATAG6  IRSEX  IREDUHIGHST2  IRPINC3  IRFAMIN3  PDEN10  COUTYP4  \\\n",
              "0  10000182       4      1             9        7         7       3        3   \n",
              "1  10001831       4      1             9        5         6       2        2   \n",
              "2  10002722       3      2             9        4         4       1        1   \n",
              "3  10002897       4      1            11        7         7       1        1   \n",
              "4  10004677       1      1             4        1         7       2        2   \n",
              "\n",
              "   AMDELT  AHLTMDE  ...  SNRLGIMP  SNRLDCSN  SNRLFRND  CIG30USE  IRALCFY  \\\n",
              "0     2.0      NaN  ...         4         3         2        30      993   \n",
              "1     2.0      NaN  ...         1         2         2        24      350   \n",
              "2     2.0      NaN  ...         1         1         2        91        4   \n",
              "3     2.0      NaN  ...         1         1         1        91      156   \n",
              "4     NaN      NaN  ...        99        99        99        91      993   \n",
              "\n",
              "   HEALTH  WRKDHRSWK2  IRHHSIZ2  IRKI17_2  target  \n",
              "0       3          55         1         1       0  \n",
              "1       2          40         2         1       1  \n",
              "2       3          41         3         1       0  \n",
              "3       3          50         2         1       0  \n",
              "4       3         999         3         2       0  \n",
              "\n",
              "[5 rows x 33 columns]"
            ],
            "text/html": [
              "\n",
              "  <div id=\"df-fe3ed8f6-b6fc-415f-8a31-4e522b87bd33\">\n",
              "    <div class=\"colab-df-container\">\n",
              "      <div>\n",
              "<style scoped>\n",
              "    .dataframe tbody tr th:only-of-type {\n",
              "        vertical-align: middle;\n",
              "    }\n",
              "\n",
              "    .dataframe tbody tr th {\n",
              "        vertical-align: top;\n",
              "    }\n",
              "\n",
              "    .dataframe thead th {\n",
              "        text-align: right;\n",
              "    }\n",
              "</style>\n",
              "<table border=\"1\" class=\"dataframe\">\n",
              "  <thead>\n",
              "    <tr style=\"text-align: right;\">\n",
              "      <th></th>\n",
              "      <th>QUESTID2</th>\n",
              "      <th>CATAG6</th>\n",
              "      <th>IRSEX</th>\n",
              "      <th>IREDUHIGHST2</th>\n",
              "      <th>IRPINC3</th>\n",
              "      <th>IRFAMIN3</th>\n",
              "      <th>PDEN10</th>\n",
              "      <th>COUTYP4</th>\n",
              "      <th>AMDELT</th>\n",
              "      <th>AHLTMDE</th>\n",
              "      <th>...</th>\n",
              "      <th>SNRLGIMP</th>\n",
              "      <th>SNRLDCSN</th>\n",
              "      <th>SNRLFRND</th>\n",
              "      <th>CIG30USE</th>\n",
              "      <th>IRALCFY</th>\n",
              "      <th>HEALTH</th>\n",
              "      <th>WRKDHRSWK2</th>\n",
              "      <th>IRHHSIZ2</th>\n",
              "      <th>IRKI17_2</th>\n",
              "      <th>target</th>\n",
              "    </tr>\n",
              "  </thead>\n",
              "  <tbody>\n",
              "    <tr>\n",
              "      <th>0</th>\n",
              "      <td>10000182</td>\n",
              "      <td>4</td>\n",
              "      <td>1</td>\n",
              "      <td>9</td>\n",
              "      <td>7</td>\n",
              "      <td>7</td>\n",
              "      <td>3</td>\n",
              "      <td>3</td>\n",
              "      <td>2.0</td>\n",
              "      <td>NaN</td>\n",
              "      <td>...</td>\n",
              "      <td>4</td>\n",
              "      <td>3</td>\n",
              "      <td>2</td>\n",
              "      <td>30</td>\n",
              "      <td>993</td>\n",
              "      <td>3</td>\n",
              "      <td>55</td>\n",
              "      <td>1</td>\n",
              "      <td>1</td>\n",
              "      <td>0</td>\n",
              "    </tr>\n",
              "    <tr>\n",
              "      <th>1</th>\n",
              "      <td>10001831</td>\n",
              "      <td>4</td>\n",
              "      <td>1</td>\n",
              "      <td>9</td>\n",
              "      <td>5</td>\n",
              "      <td>6</td>\n",
              "      <td>2</td>\n",
              "      <td>2</td>\n",
              "      <td>2.0</td>\n",
              "      <td>NaN</td>\n",
              "      <td>...</td>\n",
              "      <td>1</td>\n",
              "      <td>2</td>\n",
              "      <td>2</td>\n",
              "      <td>24</td>\n",
              "      <td>350</td>\n",
              "      <td>2</td>\n",
              "      <td>40</td>\n",
              "      <td>2</td>\n",
              "      <td>1</td>\n",
              "      <td>1</td>\n",
              "    </tr>\n",
              "    <tr>\n",
              "      <th>2</th>\n",
              "      <td>10002722</td>\n",
              "      <td>3</td>\n",
              "      <td>2</td>\n",
              "      <td>9</td>\n",
              "      <td>4</td>\n",
              "      <td>4</td>\n",
              "      <td>1</td>\n",
              "      <td>1</td>\n",
              "      <td>2.0</td>\n",
              "      <td>NaN</td>\n",
              "      <td>...</td>\n",
              "      <td>1</td>\n",
              "      <td>1</td>\n",
              "      <td>2</td>\n",
              "      <td>91</td>\n",
              "      <td>4</td>\n",
              "      <td>3</td>\n",
              "      <td>41</td>\n",
              "      <td>3</td>\n",
              "      <td>1</td>\n",
              "      <td>0</td>\n",
              "    </tr>\n",
              "    <tr>\n",
              "      <th>3</th>\n",
              "      <td>10002897</td>\n",
              "      <td>4</td>\n",
              "      <td>1</td>\n",
              "      <td>11</td>\n",
              "      <td>7</td>\n",
              "      <td>7</td>\n",
              "      <td>1</td>\n",
              "      <td>1</td>\n",
              "      <td>2.0</td>\n",
              "      <td>NaN</td>\n",
              "      <td>...</td>\n",
              "      <td>1</td>\n",
              "      <td>1</td>\n",
              "      <td>1</td>\n",
              "      <td>91</td>\n",
              "      <td>156</td>\n",
              "      <td>3</td>\n",
              "      <td>50</td>\n",
              "      <td>2</td>\n",
              "      <td>1</td>\n",
              "      <td>0</td>\n",
              "    </tr>\n",
              "    <tr>\n",
              "      <th>4</th>\n",
              "      <td>10004677</td>\n",
              "      <td>1</td>\n",
              "      <td>1</td>\n",
              "      <td>4</td>\n",
              "      <td>1</td>\n",
              "      <td>7</td>\n",
              "      <td>2</td>\n",
              "      <td>2</td>\n",
              "      <td>NaN</td>\n",
              "      <td>NaN</td>\n",
              "      <td>...</td>\n",
              "      <td>99</td>\n",
              "      <td>99</td>\n",
              "      <td>99</td>\n",
              "      <td>91</td>\n",
              "      <td>993</td>\n",
              "      <td>3</td>\n",
              "      <td>999</td>\n",
              "      <td>3</td>\n",
              "      <td>2</td>\n",
              "      <td>0</td>\n",
              "    </tr>\n",
              "  </tbody>\n",
              "</table>\n",
              "<p>5 rows × 33 columns</p>\n",
              "</div>\n",
              "      <button class=\"colab-df-convert\" onclick=\"convertToInteractive('df-fe3ed8f6-b6fc-415f-8a31-4e522b87bd33')\"\n",
              "              title=\"Convert this dataframe to an interactive table.\"\n",
              "              style=\"display:none;\">\n",
              "        \n",
              "  <svg xmlns=\"http://www.w3.org/2000/svg\" height=\"24px\"viewBox=\"0 0 24 24\"\n",
              "       width=\"24px\">\n",
              "    <path d=\"M0 0h24v24H0V0z\" fill=\"none\"/>\n",
              "    <path d=\"M18.56 5.44l.94 2.06.94-2.06 2.06-.94-2.06-.94-.94-2.06-.94 2.06-2.06.94zm-11 1L8.5 8.5l.94-2.06 2.06-.94-2.06-.94L8.5 2.5l-.94 2.06-2.06.94zm10 10l.94 2.06.94-2.06 2.06-.94-2.06-.94-.94-2.06-.94 2.06-2.06.94z\"/><path d=\"M17.41 7.96l-1.37-1.37c-.4-.4-.92-.59-1.43-.59-.52 0-1.04.2-1.43.59L10.3 9.45l-7.72 7.72c-.78.78-.78 2.05 0 2.83L4 21.41c.39.39.9.59 1.41.59.51 0 1.02-.2 1.41-.59l7.78-7.78 2.81-2.81c.8-.78.8-2.07 0-2.86zM5.41 20L4 18.59l7.72-7.72 1.47 1.35L5.41 20z\"/>\n",
              "  </svg>\n",
              "      </button>\n",
              "      \n",
              "  <style>\n",
              "    .colab-df-container {\n",
              "      display:flex;\n",
              "      flex-wrap:wrap;\n",
              "      gap: 12px;\n",
              "    }\n",
              "\n",
              "    .colab-df-convert {\n",
              "      background-color: #E8F0FE;\n",
              "      border: none;\n",
              "      border-radius: 50%;\n",
              "      cursor: pointer;\n",
              "      display: none;\n",
              "      fill: #1967D2;\n",
              "      height: 32px;\n",
              "      padding: 0 0 0 0;\n",
              "      width: 32px;\n",
              "    }\n",
              "\n",
              "    .colab-df-convert:hover {\n",
              "      background-color: #E2EBFA;\n",
              "      box-shadow: 0px 1px 2px rgba(60, 64, 67, 0.3), 0px 1px 3px 1px rgba(60, 64, 67, 0.15);\n",
              "      fill: #174EA6;\n",
              "    }\n",
              "\n",
              "    [theme=dark] .colab-df-convert {\n",
              "      background-color: #3B4455;\n",
              "      fill: #D2E3FC;\n",
              "    }\n",
              "\n",
              "    [theme=dark] .colab-df-convert:hover {\n",
              "      background-color: #434B5C;\n",
              "      box-shadow: 0px 1px 3px 1px rgba(0, 0, 0, 0.15);\n",
              "      filter: drop-shadow(0px 1px 2px rgba(0, 0, 0, 0.3));\n",
              "      fill: #FFFFFF;\n",
              "    }\n",
              "  </style>\n",
              "\n",
              "      <script>\n",
              "        const buttonEl =\n",
              "          document.querySelector('#df-fe3ed8f6-b6fc-415f-8a31-4e522b87bd33 button.colab-df-convert');\n",
              "        buttonEl.style.display =\n",
              "          google.colab.kernel.accessAllowed ? 'block' : 'none';\n",
              "\n",
              "        async function convertToInteractive(key) {\n",
              "          const element = document.querySelector('#df-fe3ed8f6-b6fc-415f-8a31-4e522b87bd33');\n",
              "          const dataTable =\n",
              "            await google.colab.kernel.invokeFunction('convertToInteractive',\n",
              "                                                     [key], {});\n",
              "          if (!dataTable) return;\n",
              "\n",
              "          const docLinkHtml = 'Like what you see? Visit the ' +\n",
              "            '<a target=\"_blank\" href=https://colab.research.google.com/notebooks/data_table.ipynb>data table notebook</a>'\n",
              "            + ' to learn more about interactive tables.';\n",
              "          element.innerHTML = '';\n",
              "          dataTable['output_type'] = 'display_data';\n",
              "          await google.colab.output.renderOutput(dataTable, element);\n",
              "          const docLink = document.createElement('div');\n",
              "          docLink.innerHTML = docLinkHtml;\n",
              "          element.appendChild(docLink);\n",
              "        }\n",
              "      </script>\n",
              "    </div>\n",
              "  </div>\n",
              "  "
            ]
          },
          "metadata": {},
          "execution_count": 23
        }
      ]
    },
    {
      "cell_type": "markdown",
      "source": [
        "## 결측치 확인 "
      ],
      "metadata": {
        "id": "W6eOoJTy-Tig"
      }
    },
    {
      "cell_type": "code",
      "source": [
        "df_20.info()"
      ],
      "metadata": {
        "colab": {
          "base_uri": "https://localhost:8080/"
        },
        "id": "XVQP5Mmz9xzp",
        "outputId": "384407d1-c6a1-4cbe-dc19-112c2e8bca5a"
      },
      "execution_count": 24,
      "outputs": [
        {
          "output_type": "stream",
          "name": "stdout",
          "text": [
            "<class 'pandas.core.frame.DataFrame'>\n",
            "RangeIndex: 32893 entries, 0 to 32892\n",
            "Data columns (total 33 columns):\n",
            " #   Column        Non-Null Count  Dtype  \n",
            "---  ------        --------------  -----  \n",
            " 0   QUESTID2      32893 non-null  int64  \n",
            " 1   CATAG6        32893 non-null  int64  \n",
            " 2   IRSEX         32893 non-null  int64  \n",
            " 3   IREDUHIGHST2  32893 non-null  int64  \n",
            " 4   IRPINC3       32893 non-null  int64  \n",
            " 5   IRFAMIN3      32893 non-null  int64  \n",
            " 6   PDEN10        32893 non-null  int64  \n",
            " 7   COUTYP4       32893 non-null  int64  \n",
            " 8   AMDELT        26079 non-null  float64\n",
            " 9   AHLTMDE       5302 non-null   float64\n",
            " 10  AALTMDE       5302 non-null   float64\n",
            " 11  DSTWORST      32893 non-null  int64  \n",
            " 12  ADDPREV       32893 non-null  int64  \n",
            " 13  SMIPP_U       27170 non-null  float64\n",
            " 14  DSTNRV30      32893 non-null  int64  \n",
            " 15  DSTHOP30      32893 non-null  int64  \n",
            " 16  DSTRST30      32893 non-null  int64  \n",
            " 17  DSTCHR30      32893 non-null  int64  \n",
            " 18  DSTEFF30      32893 non-null  int64  \n",
            " 19  DSTNGD30      32893 non-null  int64  \n",
            " 20  K6SCMAX       27170 non-null  float64\n",
            " 21  WHODASC2      27170 non-null  float64\n",
            " 22  SNRLGSVC      32893 non-null  int64  \n",
            " 23  SNRLGIMP      32893 non-null  int64  \n",
            " 24  SNRLDCSN      32893 non-null  int64  \n",
            " 25  SNRLFRND      32893 non-null  int64  \n",
            " 26  CIG30USE      32893 non-null  int64  \n",
            " 27  IRALCFY       32893 non-null  int64  \n",
            " 28  HEALTH        32893 non-null  int64  \n",
            " 29  WRKDHRSWK2    32893 non-null  int64  \n",
            " 30  IRHHSIZ2      32893 non-null  int64  \n",
            " 31  IRKI17_2      32893 non-null  int64  \n",
            " 32  target        32893 non-null  int64  \n",
            "dtypes: float64(6), int64(27)\n",
            "memory usage: 8.3 MB\n"
          ]
        }
      ]
    },
    {
      "cell_type": "markdown",
      "source": [
        "## DATA Cleaning !!"
      ],
      "metadata": {
        "id": "WRRsFOJoG4yp"
      }
    },
    {
      "cell_type": "code",
      "source": [
        "# Create a copy df that we will modify for cleaning\n",
        "df2 = df_20.copy(deep=True)\n",
        "colums = pd.Series(df_20.columns)\n",
        "# Look at the unique values in each column, confirming that special codes exist in our data\n",
        "for i, col in zip(range(len(colums)), colums):\n",
        "    print(col)\n",
        "    print(df2[colums[i]].unique())\n",
        "    print(\"========================\")"
      ],
      "metadata": {
        "colab": {
          "base_uri": "https://localhost:8080/"
        },
        "id": "54UZlPVjvMZP",
        "outputId": "32b0a0ee-d5d3-4828-c757-bd36c0490551"
      },
      "execution_count": 25,
      "outputs": [
        {
          "output_type": "stream",
          "name": "stdout",
          "text": [
            "QUESTID2\n",
            "[10000182 10001831 10002722 ... 43074600 43074630 43075406]\n",
            "========================\n",
            "CATAG6\n",
            "[4 3 1 2 5 6]\n",
            "========================\n",
            "IRSEX\n",
            "[1 2]\n",
            "========================\n",
            "IREDUHIGHST2\n",
            "[ 9 11  4 10  6  8  3  2  7  5  1]\n",
            "========================\n",
            "IRPINC3\n",
            "[7 5 4 1 3 2 6]\n",
            "========================\n",
            "IRFAMIN3\n",
            "[7 6 4 5 2 1 3]\n",
            "========================\n",
            "PDEN10\n",
            "[3 2 1]\n",
            "========================\n",
            "COUTYP4\n",
            "[3 2 1]\n",
            "========================\n",
            "AMDELT\n",
            "[ 2. nan  1.]\n",
            "========================\n",
            "AHLTMDE\n",
            "[nan  1.  0.]\n",
            "========================\n",
            "AALTMDE\n",
            "[nan  0.  1.]\n",
            "========================\n",
            "DSTWORST\n",
            "[ 2  1 99 98 94 97 85]\n",
            "========================\n",
            "ADDPREV\n",
            "[ 2  1 99 98 97 94 85]\n",
            "========================\n",
            "SMIPP_U\n",
            "[0.00899813 0.04104224 0.02269539 ... 0.5602212  0.3160603  0.06361628]\n",
            "========================\n",
            "DSTNRV30\n",
            "[ 5  3  2  4 99  1 98 97 94 85]\n",
            "========================\n",
            "DSTHOP30\n",
            "[ 5  3  4 99  2  1 98 97 94 85]\n",
            "========================\n",
            "DSTRST30\n",
            "[ 5  3  4 99  1  2 98 94 97 85]\n",
            "========================\n",
            "DSTCHR30\n",
            "[ 5  4  3 99  2  1 98 94 97 85]\n",
            "========================\n",
            "DSTEFF30\n",
            "[ 5  4 99  2  3  1 98 94 97 85]\n",
            "========================\n",
            "DSTNGD30\n",
            "[ 5  4 99  3  2  1 98 94 97 85]\n",
            "========================\n",
            "K6SCMAX\n",
            "[ 0. 17. 10.  3. nan  5.  4.  6. 21.  7.  9. 13. 24. 18. 11. 12. 23. 20.\n",
            "  8.  1. 15.  2. 22. 16. 14. 19.]\n",
            "========================\n",
            "WHODASC2\n",
            "[ 0.  9. 10.  2. nan  5. 18.  3.  4.  1. 12. 14. 17.  7.  6. 23.  8. 24.\n",
            " 11. 13. 19. 16. 20. 15. 21. 22.]\n",
            "========================\n",
            "SNRLGSVC\n",
            "[ 1 99  3  4  2  5  6 94 98 97 85]\n",
            "========================\n",
            "SNRLGIMP\n",
            "[ 4  1 99  3  2 98 94 97 85]\n",
            "========================\n",
            "SNRLDCSN\n",
            "[ 3  2  1 99  4 98 94 97 85]\n",
            "========================\n",
            "SNRLFRND\n",
            "[ 2  1 99  3  4 98 97 94 85]\n",
            "========================\n",
            "CIG30USE\n",
            "[30 24 91 15 93  3  5 10  1 20 14 94 25 29 28  2  9 27 12  7 16  4 22  8\n",
            "  6 19 11 23 26 17 98 97 13 18 21]\n",
            "========================\n",
            "IRALCFY\n",
            "[993 350   4 156 991 104 312   9  52   8 260   2  24  48  36  32 144   5\n",
            "  12   3   1 240 120 300 364  20  25  13 208  72  60  28 180  15 168   6\n",
            "  30 200  10 324  96  84 360 132 288 365   7  35  18  50 204  14 336  22\n",
            " 340  45 342 339  43 345  40 100 254 337 231  21  16  90 136 348 358 192\n",
            " 276  57 146  69 264  26  41  23  66  39 108  27 210  53  49 355  37  46\n",
            "  19 363 216  17  11 150 160 250  70 189 320 343 245  31 362 251  71 112\n",
            "  33 145 116  61 101  75 252 325 266  29  65 361 338 181  38  47 194 341\n",
            "  89 183  94 107  78 190  59 270 344 110  42  54 265  98  99  34 225  80\n",
            "  58 351 356 134  63 140  95 330  62 256 335 359  67  56 152 167  77 354\n",
            "  64 305 236 157  82 124]\n",
            "========================\n",
            "HEALTH\n",
            "[ 3  2  1  4  5 97 94]\n",
            "========================\n",
            "WRKDHRSWK2\n",
            "[ 55  40  41  50 999  44  42  21  60 998  51  45  30   4  10  25  36  37\n",
            "   3  32  35  61  43  39  38  52   8  16  24  34  12   5  20  28  48 994\n",
            "  15   6  46 997  19  33  56  53   1  49   9  23  14  22  27  18  17  47\n",
            "  26  54  13  29   2  11   7  31  59  58  57 985]\n",
            "========================\n",
            "IRHHSIZ2\n",
            "[1 2 3 4 6 5]\n",
            "========================\n",
            "IRKI17_2\n",
            "[1 2 3 4]\n",
            "========================\n",
            "target\n",
            "[0 1]\n",
            "========================\n"
          ]
        }
      ]
    },
    {
      "cell_type": "code",
      "source": [
        "cont_cols = [\n",
        "    \"CATAG6\",\n",
        "    \"IRSEX\",\n",
        "    \"IREDUHIGHST2\",\n",
        "    \"IRPINC3\",\n",
        "    \"IRFAMIN3\"\n",
        "]\n",
        "\n",
        "cols_99 = ['DSTWORST','ADDPREV','DSTNRV30','DSTHOP30','DSTRST30','DSTCHR30','DSTEFF30','DSTNGD30','SNRLGSVC','SNRLGIMP','SNRLDCSN','SNRLFRND','HEALTH']\n",
        "cols_999 = ['WRKDHRSWK2','IRALCFY']\n",
        "\n",
        "# The columns without categorical data are all ordinal\n",
        "#ord_cols = [x for x in cols if x not in cont_cols]\n",
        "\n",
        "# Function that cleans continuous numerical data counting by year\n",
        "def clean_999data(x):\n",
        "\n",
        "    # Survey codes for \"Bad Data\", Don't Know, Skip, Refused, or Blank\n",
        "    if ((x == -9) |\n",
        "    (x == 985) |\n",
        "    (x == 989) |\n",
        "    ((x >= 994) & (x < 1000))):\n",
        "        return np.nan\n",
        "\n",
        "    # Codes for \"Have never done...\" or \"Have not done in the past X days\"\n",
        "    # Equivalent to 0 for numbered questions\n",
        "    if ((x == 991) | \n",
        "    (x == 993)):\n",
        "        return 0\n",
        "\n",
        "    # Ignore value if conditions don't match\n",
        "    return x \n",
        "\n",
        "# Function that cleans all other special data codes\n",
        "def clean_99data(x):\n",
        "\n",
        "    # Survey codes for \"Bad Data\", Don't Know, Skip, Refused, or Blank\n",
        "    if ((x == -9) |\n",
        "    ((x >= 94) & (x < 100)) |\n",
        "    (x == 84) |\n",
        "    (x == 85) |\n",
        "    (x == 89)):\n",
        "        return np.nan\n",
        "\n",
        "    # Codes for \"Have never done...\" or \"Have not done in the past X days\"\n",
        "    # Equivalent to 0 for numbered questions\n",
        "    if ((x == 91) |\n",
        "    (x == 93)):\n",
        "        return 0\n",
        "\n",
        "    # Ignore value if conditions don't match\n",
        "    return x "
      ],
      "metadata": {
        "id": "UaBeX2CvGcao"
      },
      "execution_count": 26,
      "outputs": []
    },
    {
      "cell_type": "code",
      "source": [
        "# Look at the unique values in each column, confirming that special codes exist in our data\n",
        "\n",
        "\n",
        "for i, col in zip(range(len(colums)), colums):\n",
        "    print(col)\n",
        "    print(df2[colums[i]].unique())\n",
        "    print(\"========================\")"
      ],
      "metadata": {
        "colab": {
          "base_uri": "https://localhost:8080/"
        },
        "id": "Mes4re3oPmF0",
        "outputId": "23bcb566-dfd5-4d5f-a6c2-9544da8d10f2"
      },
      "execution_count": 27,
      "outputs": [
        {
          "output_type": "stream",
          "name": "stdout",
          "text": [
            "QUESTID2\n",
            "[10000182 10001831 10002722 ... 43074600 43074630 43075406]\n",
            "========================\n",
            "CATAG6\n",
            "[4 3 1 2 5 6]\n",
            "========================\n",
            "IRSEX\n",
            "[1 2]\n",
            "========================\n",
            "IREDUHIGHST2\n",
            "[ 9 11  4 10  6  8  3  2  7  5  1]\n",
            "========================\n",
            "IRPINC3\n",
            "[7 5 4 1 3 2 6]\n",
            "========================\n",
            "IRFAMIN3\n",
            "[7 6 4 5 2 1 3]\n",
            "========================\n",
            "PDEN10\n",
            "[3 2 1]\n",
            "========================\n",
            "COUTYP4\n",
            "[3 2 1]\n",
            "========================\n",
            "AMDELT\n",
            "[ 2. nan  1.]\n",
            "========================\n",
            "AHLTMDE\n",
            "[nan  1.  0.]\n",
            "========================\n",
            "AALTMDE\n",
            "[nan  0.  1.]\n",
            "========================\n",
            "DSTWORST\n",
            "[ 2  1 99 98 94 97 85]\n",
            "========================\n",
            "ADDPREV\n",
            "[ 2  1 99 98 97 94 85]\n",
            "========================\n",
            "SMIPP_U\n",
            "[0.00899813 0.04104224 0.02269539 ... 0.5602212  0.3160603  0.06361628]\n",
            "========================\n",
            "DSTNRV30\n",
            "[ 5  3  2  4 99  1 98 97 94 85]\n",
            "========================\n",
            "DSTHOP30\n",
            "[ 5  3  4 99  2  1 98 97 94 85]\n",
            "========================\n",
            "DSTRST30\n",
            "[ 5  3  4 99  1  2 98 94 97 85]\n",
            "========================\n",
            "DSTCHR30\n",
            "[ 5  4  3 99  2  1 98 94 97 85]\n",
            "========================\n",
            "DSTEFF30\n",
            "[ 5  4 99  2  3  1 98 94 97 85]\n",
            "========================\n",
            "DSTNGD30\n",
            "[ 5  4 99  3  2  1 98 94 97 85]\n",
            "========================\n",
            "K6SCMAX\n",
            "[ 0. 17. 10.  3. nan  5.  4.  6. 21.  7.  9. 13. 24. 18. 11. 12. 23. 20.\n",
            "  8.  1. 15.  2. 22. 16. 14. 19.]\n",
            "========================\n",
            "WHODASC2\n",
            "[ 0.  9. 10.  2. nan  5. 18.  3.  4.  1. 12. 14. 17.  7.  6. 23.  8. 24.\n",
            " 11. 13. 19. 16. 20. 15. 21. 22.]\n",
            "========================\n",
            "SNRLGSVC\n",
            "[ 1 99  3  4  2  5  6 94 98 97 85]\n",
            "========================\n",
            "SNRLGIMP\n",
            "[ 4  1 99  3  2 98 94 97 85]\n",
            "========================\n",
            "SNRLDCSN\n",
            "[ 3  2  1 99  4 98 94 97 85]\n",
            "========================\n",
            "SNRLFRND\n",
            "[ 2  1 99  3  4 98 97 94 85]\n",
            "========================\n",
            "CIG30USE\n",
            "[30 24 91 15 93  3  5 10  1 20 14 94 25 29 28  2  9 27 12  7 16  4 22  8\n",
            "  6 19 11 23 26 17 98 97 13 18 21]\n",
            "========================\n",
            "IRALCFY\n",
            "[993 350   4 156 991 104 312   9  52   8 260   2  24  48  36  32 144   5\n",
            "  12   3   1 240 120 300 364  20  25  13 208  72  60  28 180  15 168   6\n",
            "  30 200  10 324  96  84 360 132 288 365   7  35  18  50 204  14 336  22\n",
            " 340  45 342 339  43 345  40 100 254 337 231  21  16  90 136 348 358 192\n",
            " 276  57 146  69 264  26  41  23  66  39 108  27 210  53  49 355  37  46\n",
            "  19 363 216  17  11 150 160 250  70 189 320 343 245  31 362 251  71 112\n",
            "  33 145 116  61 101  75 252 325 266  29  65 361 338 181  38  47 194 341\n",
            "  89 183  94 107  78 190  59 270 344 110  42  54 265  98  99  34 225  80\n",
            "  58 351 356 134  63 140  95 330  62 256 335 359  67  56 152 167  77 354\n",
            "  64 305 236 157  82 124]\n",
            "========================\n",
            "HEALTH\n",
            "[ 3  2  1  4  5 97 94]\n",
            "========================\n",
            "WRKDHRSWK2\n",
            "[ 55  40  41  50 999  44  42  21  60 998  51  45  30   4  10  25  36  37\n",
            "   3  32  35  61  43  39  38  52   8  16  24  34  12   5  20  28  48 994\n",
            "  15   6  46 997  19  33  56  53   1  49   9  23  14  22  27  18  17  47\n",
            "  26  54  13  29   2  11   7  31  59  58  57 985]\n",
            "========================\n",
            "IRHHSIZ2\n",
            "[1 2 3 4 6 5]\n",
            "========================\n",
            "IRKI17_2\n",
            "[1 2 3 4]\n",
            "========================\n",
            "target\n",
            "[0 1]\n",
            "========================\n"
          ]
        }
      ]
    },
    {
      "cell_type": "markdown",
      "source": [
        ""
      ],
      "metadata": {
        "id": "rZqhdKRBzOmZ"
      }
    },
    {
      "cell_type": "code",
      "source": [
        "from pandas.core.dtypes.dtypes import CategoricalDtype\n",
        "\n",
        "# Apply clean_data functions\n",
        "df2[cols_99] = df2[cols_99].applymap(clean_99data)\n",
        "df2[cols_999] = df2[cols_999].applymap(clean_999data)\n",
        "\n",
        "cals_cate = ['AMDELT','DSTWORST','ADDPREV','ADDPREV','IRSEX']\n",
        "df2['AMDELT'] =df2['AMDELT']-1\n",
        "df2['DSTWORST'] =df2['DSTWORST']-1\n",
        "df2['ADDPREV'] =df2['ADDPREV']-1\n",
        "df2['IRSEX'] =df2['IRSEX']-1\n",
        "\n",
        "df2['AMDELT'] =df2['AMDELT'].astype('category')\n",
        "df2['DSTWORST'] =df2['DSTWORST'].astype('category')\n",
        "df2['ADDPREV'] =df2['ADDPREV'].astype('category')\n",
        "df2['IRSEX'] =df2['IRSEX'].astype('category')\n",
        "\n",
        "\n",
        "df2['AHLTMDE'] =df2['AHLTMDE'].astype('category')\n",
        "df2['AALTMDE'] =df2['AALTMDE'].astype('category')\n",
        "\n",
        "\n",
        "df2['target'] =df2['target'].astype('category')\n",
        "\n"
      ],
      "metadata": {
        "id": "zHWlcU9pOpxN"
      },
      "execution_count": 28,
      "outputs": []
    },
    {
      "cell_type": "code",
      "source": [
        "df2.info()"
      ],
      "metadata": {
        "colab": {
          "base_uri": "https://localhost:8080/"
        },
        "id": "oiFX09NuxZiu",
        "outputId": "79b1eb8d-5ad7-4a68-d1cb-480a830b1969"
      },
      "execution_count": 29,
      "outputs": [
        {
          "output_type": "stream",
          "name": "stdout",
          "text": [
            "<class 'pandas.core.frame.DataFrame'>\n",
            "RangeIndex: 32893 entries, 0 to 32892\n",
            "Data columns (total 33 columns):\n",
            " #   Column        Non-Null Count  Dtype   \n",
            "---  ------        --------------  -----   \n",
            " 0   QUESTID2      32893 non-null  int64   \n",
            " 1   CATAG6        32893 non-null  int64   \n",
            " 2   IRSEX         32893 non-null  category\n",
            " 3   IREDUHIGHST2  32893 non-null  int64   \n",
            " 4   IRPINC3       32893 non-null  int64   \n",
            " 5   IRFAMIN3      32893 non-null  int64   \n",
            " 6   PDEN10        32893 non-null  int64   \n",
            " 7   COUTYP4       32893 non-null  int64   \n",
            " 8   AMDELT        26079 non-null  category\n",
            " 9   AHLTMDE       5302 non-null   category\n",
            " 10  AALTMDE       5302 non-null   category\n",
            " 11  DSTWORST      26231 non-null  category\n",
            " 12  ADDPREV       26196 non-null  category\n",
            " 13  SMIPP_U       27170 non-null  float64 \n",
            " 14  DSTNRV30      26321 non-null  float64 \n",
            " 15  DSTHOP30      26309 non-null  float64 \n",
            " 16  DSTRST30      26290 non-null  float64 \n",
            " 17  DSTCHR30      26306 non-null  float64 \n",
            " 18  DSTEFF30      26232 non-null  float64 \n",
            " 19  DSTNGD30      26288 non-null  float64 \n",
            " 20  K6SCMAX       27170 non-null  float64 \n",
            " 21  WHODASC2      27170 non-null  float64 \n",
            " 22  SNRLGSVC      26316 non-null  float64 \n",
            " 23  SNRLGIMP      26075 non-null  float64 \n",
            " 24  SNRLDCSN      26116 non-null  float64 \n",
            " 25  SNRLFRND      26106 non-null  float64 \n",
            " 26  CIG30USE      32893 non-null  int64   \n",
            " 27  IRALCFY       32893 non-null  int64   \n",
            " 28  HEALTH        32884 non-null  float64 \n",
            " 29  WRKDHRSWK2    16425 non-null  float64 \n",
            " 30  IRHHSIZ2      32893 non-null  int64   \n",
            " 31  IRKI17_2      32893 non-null  int64   \n",
            " 32  target        32893 non-null  category\n",
            "dtypes: category(7), float64(15), int64(11)\n",
            "memory usage: 6.7 MB\n"
          ]
        }
      ]
    },
    {
      "cell_type": "code",
      "source": [
        "# Look at the unique values in each column, confirming that special codes exist in our data\n",
        "for i, col in zip(range(len(colums)), colums):\n",
        "    print(col)\n",
        "    print(df2[colums[i]].unique())\n",
        "    print(\"========================\")"
      ],
      "metadata": {
        "colab": {
          "base_uri": "https://localhost:8080/"
        },
        "id": "6Z8WtiUUVhOI",
        "outputId": "0d806f34-97bf-47f3-a9b7-fa37f0093538"
      },
      "execution_count": 30,
      "outputs": [
        {
          "output_type": "stream",
          "name": "stdout",
          "text": [
            "QUESTID2\n",
            "[10000182 10001831 10002722 ... 43074600 43074630 43075406]\n",
            "========================\n",
            "CATAG6\n",
            "[4 3 1 2 5 6]\n",
            "========================\n",
            "IRSEX\n",
            "[0, 1]\n",
            "Categories (2, int64): [0, 1]\n",
            "========================\n",
            "IREDUHIGHST2\n",
            "[ 9 11  4 10  6  8  3  2  7  5  1]\n",
            "========================\n",
            "IRPINC3\n",
            "[7 5 4 1 3 2 6]\n",
            "========================\n",
            "IRFAMIN3\n",
            "[7 6 4 5 2 1 3]\n",
            "========================\n",
            "PDEN10\n",
            "[3 2 1]\n",
            "========================\n",
            "COUTYP4\n",
            "[3 2 1]\n",
            "========================\n",
            "AMDELT\n",
            "[1.0, NaN, 0.0]\n",
            "Categories (2, float64): [0.0, 1.0]\n",
            "========================\n",
            "AHLTMDE\n",
            "[NaN, 1.0, 0.0]\n",
            "Categories (2, float64): [0.0, 1.0]\n",
            "========================\n",
            "AALTMDE\n",
            "[NaN, 0.0, 1.0]\n",
            "Categories (2, float64): [0.0, 1.0]\n",
            "========================\n",
            "DSTWORST\n",
            "[1.0, 0.0, NaN]\n",
            "Categories (2, float64): [0.0, 1.0]\n",
            "========================\n",
            "ADDPREV\n",
            "[1.0, 0.0, NaN]\n",
            "Categories (2, float64): [0.0, 1.0]\n",
            "========================\n",
            "SMIPP_U\n",
            "[0.00899813 0.04104224 0.02269539 ... 0.5602212  0.3160603  0.06361628]\n",
            "========================\n",
            "DSTNRV30\n",
            "[ 5.  3.  2.  4. nan  1.]\n",
            "========================\n",
            "DSTHOP30\n",
            "[ 5.  3.  4. nan  2.  1.]\n",
            "========================\n",
            "DSTRST30\n",
            "[ 5.  3.  4. nan  1.  2.]\n",
            "========================\n",
            "DSTCHR30\n",
            "[ 5.  4.  3. nan  2.  1.]\n",
            "========================\n",
            "DSTEFF30\n",
            "[ 5.  4. nan  2.  3.  1.]\n",
            "========================\n",
            "DSTNGD30\n",
            "[ 5.  4. nan  3.  2.  1.]\n",
            "========================\n",
            "K6SCMAX\n",
            "[ 0. 17. 10.  3. nan  5.  4.  6. 21.  7.  9. 13. 24. 18. 11. 12. 23. 20.\n",
            "  8.  1. 15.  2. 22. 16. 14. 19.]\n",
            "========================\n",
            "WHODASC2\n",
            "[ 0.  9. 10.  2. nan  5. 18.  3.  4.  1. 12. 14. 17.  7.  6. 23.  8. 24.\n",
            " 11. 13. 19. 16. 20. 15. 21. 22.]\n",
            "========================\n",
            "SNRLGSVC\n",
            "[ 1. nan  3.  4.  2.  5.  6.]\n",
            "========================\n",
            "SNRLGIMP\n",
            "[ 4.  1. nan  3.  2.]\n",
            "========================\n",
            "SNRLDCSN\n",
            "[ 3.  2.  1. nan  4.]\n",
            "========================\n",
            "SNRLFRND\n",
            "[ 2.  1. nan  3.  4.]\n",
            "========================\n",
            "CIG30USE\n",
            "[30 24 91 15 93  3  5 10  1 20 14 94 25 29 28  2  9 27 12  7 16  4 22  8\n",
            "  6 19 11 23 26 17 98 97 13 18 21]\n",
            "========================\n",
            "IRALCFY\n",
            "[  0 350   4 156 104 312   9  52   8 260   2  24  48  36  32 144   5  12\n",
            "   3   1 240 120 300 364  20  25  13 208  72  60  28 180  15 168   6  30\n",
            " 200  10 324  96  84 360 132 288 365   7  35  18  50 204  14 336  22 340\n",
            "  45 342 339  43 345  40 100 254 337 231  21  16  90 136 348 358 192 276\n",
            "  57 146  69 264  26  41  23  66  39 108  27 210  53  49 355  37  46  19\n",
            " 363 216  17  11 150 160 250  70 189 320 343 245  31 362 251  71 112  33\n",
            " 145 116  61 101  75 252 325 266  29  65 361 338 181  38  47 194 341  89\n",
            " 183  94 107  78 190  59 270 344 110  42  54 265  98  99  34 225  80  58\n",
            " 351 356 134  63 140  95 330  62 256 335 359  67  56 152 167  77 354  64\n",
            " 305 236 157  82 124]\n",
            "========================\n",
            "HEALTH\n",
            "[ 3.  2.  1.  4.  5. nan]\n",
            "========================\n",
            "WRKDHRSWK2\n",
            "[55. 40. 41. 50. nan 44. 42. 21. 60. 51. 45. 30.  4. 10. 25. 36. 37.  3.\n",
            " 32. 35. 61. 43. 39. 38. 52.  8. 16. 24. 34. 12.  5. 20. 28. 48. 15.  6.\n",
            " 46. 19. 33. 56. 53.  1. 49.  9. 23. 14. 22. 27. 18. 17. 47. 26. 54. 13.\n",
            " 29.  2. 11.  7. 31. 59. 58. 57.]\n",
            "========================\n",
            "IRHHSIZ2\n",
            "[1 2 3 4 6 5]\n",
            "========================\n",
            "IRKI17_2\n",
            "[1 2 3 4]\n",
            "========================\n",
            "target\n",
            "[0, 1]\n",
            "Categories (2, int64): [0, 1]\n",
            "========================\n"
          ]
        },
        {
          "output_type": "stream",
          "name": "stderr",
          "text": [
            "/usr/local/lib/python3.7/dist-packages/pandas/io/formats/format.py:1429: FutureWarning: Index.ravel returning ndarray is deprecated; in a future version this will return a view on self.\n",
            "  for val, m in zip(values.ravel(), mask.ravel())\n"
          ]
        }
      ]
    },
    {
      "cell_type": "code",
      "source": [
        "df2.info()"
      ],
      "metadata": {
        "colab": {
          "base_uri": "https://localhost:8080/"
        },
        "id": "XrAnHcUbHyZz",
        "outputId": "6bca5b43-e6f4-40ed-b668-5c80b1aa64b0"
      },
      "execution_count": 31,
      "outputs": [
        {
          "output_type": "stream",
          "name": "stdout",
          "text": [
            "<class 'pandas.core.frame.DataFrame'>\n",
            "RangeIndex: 32893 entries, 0 to 32892\n",
            "Data columns (total 33 columns):\n",
            " #   Column        Non-Null Count  Dtype   \n",
            "---  ------        --------------  -----   \n",
            " 0   QUESTID2      32893 non-null  int64   \n",
            " 1   CATAG6        32893 non-null  int64   \n",
            " 2   IRSEX         32893 non-null  category\n",
            " 3   IREDUHIGHST2  32893 non-null  int64   \n",
            " 4   IRPINC3       32893 non-null  int64   \n",
            " 5   IRFAMIN3      32893 non-null  int64   \n",
            " 6   PDEN10        32893 non-null  int64   \n",
            " 7   COUTYP4       32893 non-null  int64   \n",
            " 8   AMDELT        26079 non-null  category\n",
            " 9   AHLTMDE       5302 non-null   category\n",
            " 10  AALTMDE       5302 non-null   category\n",
            " 11  DSTWORST      26231 non-null  category\n",
            " 12  ADDPREV       26196 non-null  category\n",
            " 13  SMIPP_U       27170 non-null  float64 \n",
            " 14  DSTNRV30      26321 non-null  float64 \n",
            " 15  DSTHOP30      26309 non-null  float64 \n",
            " 16  DSTRST30      26290 non-null  float64 \n",
            " 17  DSTCHR30      26306 non-null  float64 \n",
            " 18  DSTEFF30      26232 non-null  float64 \n",
            " 19  DSTNGD30      26288 non-null  float64 \n",
            " 20  K6SCMAX       27170 non-null  float64 \n",
            " 21  WHODASC2      27170 non-null  float64 \n",
            " 22  SNRLGSVC      26316 non-null  float64 \n",
            " 23  SNRLGIMP      26075 non-null  float64 \n",
            " 24  SNRLDCSN      26116 non-null  float64 \n",
            " 25  SNRLFRND      26106 non-null  float64 \n",
            " 26  CIG30USE      32893 non-null  int64   \n",
            " 27  IRALCFY       32893 non-null  int64   \n",
            " 28  HEALTH        32884 non-null  float64 \n",
            " 29  WRKDHRSWK2    16425 non-null  float64 \n",
            " 30  IRHHSIZ2      32893 non-null  int64   \n",
            " 31  IRKI17_2      32893 non-null  int64   \n",
            " 32  target        32893 non-null  category\n",
            "dtypes: category(7), float64(15), int64(11)\n",
            "memory usage: 6.7 MB\n"
          ]
        }
      ]
    },
    {
      "cell_type": "code",
      "source": [
        ""
      ],
      "metadata": {
        "id": "co19ZRvQ-Ofa"
      },
      "execution_count": 31,
      "outputs": []
    },
    {
      "cell_type": "code",
      "source": [
        ""
      ],
      "metadata": {
        "id": "wYamUyWyFF8N"
      },
      "execution_count": 31,
      "outputs": []
    },
    {
      "cell_type": "code",
      "source": [
        ""
      ],
      "metadata": {
        "id": "dHeQmbDNL9ZK"
      },
      "execution_count": 31,
      "outputs": []
    },
    {
      "cell_type": "markdown",
      "source": [
        "# 분석 고?"
      ],
      "metadata": {
        "id": "tRWuAThPdJr7"
      }
    },
    {
      "cell_type": "code",
      "source": [
        ""
      ],
      "metadata": {
        "id": "INy4zjcDdfz4"
      },
      "execution_count": 31,
      "outputs": []
    },
    {
      "cell_type": "code",
      "source": [
        "import numpy as np\n",
        "#import pandas as pd\n",
        "\n",
        "from sklearn.pipeline import make_pipeline\n",
        "from sklearn.pipeline import Pipeline\n",
        "\n",
        "\n",
        "#from sklearn.ensemble import RandomForestRegressor\n",
        "from sklearn.ensemble import RandomForestClassifier\n",
        "from sklearn.linear_model import LogisticRegression\n",
        "from xgboost import XGBClassifier\n",
        "from sklearn.ensemble import AdaBoostClassifier\n",
        "#from sklearn import svm\n",
        "\n",
        "from category_encoders import OrdinalEncoder\n",
        "from category_encoders import TargetEncoder\n",
        "from category_encoders import BinaryEncoder\n",
        "from sklearn.impute import SimpleImputer\n",
        "from sklearn.preprocessing import StandardScaler, OneHotEncoder\n",
        "\n",
        "\n",
        "from sklearn.metrics import accuracy_score\n",
        "from sklearn.model_selection import cross_val_score\n"
      ],
      "metadata": {
        "id": "95mo6CA3cYq9",
        "colab": {
          "base_uri": "https://localhost:8080/"
        },
        "outputId": "0a0010af-908e-4ad8-a67f-684d99295b8d"
      },
      "execution_count": 32,
      "outputs": [
        {
          "output_type": "stream",
          "name": "stderr",
          "text": [
            "/usr/local/lib/python3.7/dist-packages/statsmodels/tools/_testing.py:19: FutureWarning: pandas.util.testing is deprecated. Use the functions in the public API at pandas.testing instead.\n",
            "  import pandas.util.testing as tm\n"
          ]
        }
      ]
    },
    {
      "cell_type": "code",
      "source": [
        "from scipy.stats import randint, uniform\n",
        "from sklearn.model_selection import RandomizedSearchCV\n",
        "from sklearn.model_selection import GridSearchCV\n"
      ],
      "metadata": {
        "id": "btHuj6HtdPTH"
      },
      "execution_count": 33,
      "outputs": []
    },
    {
      "cell_type": "code",
      "source": [
        "from sklearn.model_selection import train_test_split\n",
        "target = 'target'\n",
        "\n",
        "# 80/20 비율로 학습/테스트 데이터를 분리합니다.\n",
        "Train, test = train_test_split(df2, train_size=0.80, test_size=0.20, \n",
        "                              stratify=df2[target], random_state=2)\n",
        "\n",
        "\n",
        "train, val = train_test_split(Train, train_size=0.80, test_size=0.20, \n",
        "                              stratify=Train[target], random_state=2)\n"
      ],
      "metadata": {
        "id": "3pGVLQWxdfSI"
      },
      "execution_count": 34,
      "outputs": []
    },
    {
      "cell_type": "code",
      "source": [
        "#target = 'memory capacity'\n",
        "target = 'target'\n",
        "\n",
        "features = train.columns.drop([target, 'QUESTID2'])\n",
        "X_train = train[features]\n",
        "y_train = train[target]\n",
        "\n",
        "X_val = val[features]\n",
        "y_val = val[target]\n",
        "\n",
        "X_test = test[features]\n",
        "y_test = test[target]"
      ],
      "metadata": {
        "id": "SuUo0jrrdUxt"
      },
      "execution_count": 35,
      "outputs": []
    },
    {
      "cell_type": "code",
      "source": [
        "# 클래스의 비율\n",
        "y_train.value_counts(normalize=True)"
      ],
      "metadata": {
        "colab": {
          "base_uri": "https://localhost:8080/"
        },
        "id": "rsb-Et1e3F_H",
        "outputId": "a0965c43-35f4-4f5a-93ca-7523970d27bc"
      },
      "execution_count": 36,
      "outputs": [
        {
          "output_type": "execute_result",
          "data": {
            "text/plain": [
              "0    0.837585\n",
              "1    0.162415\n",
              "Name: target, dtype: float64"
            ]
          },
          "metadata": {},
          "execution_count": 36
        }
      ]
    },
    {
      "cell_type": "code",
      "source": [
        "ratio = 0.16/0.84\n",
        "ratio"
      ],
      "metadata": {
        "colab": {
          "base_uri": "https://localhost:8080/"
        },
        "id": "shIdFZfo3LrQ",
        "outputId": "273f3431-8f08-46c8-bbb7-b462371a50f8"
      },
      "execution_count": 37,
      "outputs": [
        {
          "output_type": "execute_result",
          "data": {
            "text/plain": [
              "0.1904761904761905"
            ]
          },
          "metadata": {},
          "execution_count": 37
        }
      ]
    },
    {
      "cell_type": "code",
      "source": [
        "\n",
        "#  variables settings for encodings\n",
        "cate_cols =['IRSEX','DSTWORST','ADDPREV']     # for encoding categry data\n",
        "conti_cols = ['SMIPP_U']                      # for imputing continuous data \n",
        "ordinal_cols = [i for i in features.tolist() if i not in cate_cols+conti_cols ]  # for encoding ordinal data\n"
      ],
      "metadata": {
        "id": "YsDy7BrCf1DL"
      },
      "execution_count": 38,
      "outputs": []
    },
    {
      "cell_type": "code",
      "source": [
        "# Create a preprocessor from ColumnTransformer.\n",
        "from sklearn.compose import ColumnTransformer\n",
        "\n",
        "preprocessor = ColumnTransformer(transformers=[\n",
        "    ('impute', SimpleImputer(),[i for i, x in enumerate(features.tolist()) if x in conti_cols] ),                                         \n",
        "    ('cate',BinaryEncoder(), [i for i, x in enumerate(features.tolist()) if x in cate_cols]),\n",
        "    ('Ord', OrdinalEncoder(), [i for i, x in enumerate(features.tolist()) if x in ordinal_cols])])"
      ],
      "metadata": {
        "id": "P9BAgG-zfX3O"
      },
      "execution_count": 39,
      "outputs": []
    },
    {
      "cell_type": "code",
      "source": [
        "# Parameter grid for RandomizedSearchCV\n",
        "model_grid = {\n",
        "    'random_forest': {\n",
        "        'model':RandomForestClassifier(random_state=15, n_jobs=50, n_estimators=500),\n",
        "        'params': {\n",
        "            'estimator__n_estimators': randint(50, 1000),\n",
        "            'estimator__max_depth': [5,6,7,8,9,10],\n",
        "            'estimator__criterion':['gini', 'entropy'],\n",
        "            'estimator__class_weight':['balanced', 'balanced_subsample']\n",
        "        }\n",
        "    },\n",
        "\n",
        "    'xgb_classifier': {\n",
        "        'model': XGBClassifier(n_estimators=1000, early_stopping_rounds  = 100,subsample=0.8, \n",
        "                               colsample_bytree=0.8, verbosity=2, n_jobs=500, scale_pos_weight=ratio, learning_rate=0.15),\n",
        "        'params': {\n",
        "            'estimator__n_estimators': randint(50, 1000),\n",
        "            'estimator__max_depth': [5,6,7,8],\n",
        "            'estimator__min_child_weight': [2,3]\n",
        "        }\n",
        "    },\n",
        "    'adb_classifier': {\n",
        "        'model': AdaBoostClassifier(n_estimators=1000, learning_rate=0.2, random_state = 15),\n",
        "        'params': {\n",
        "            'estimator__n_estimators': randint(50, 1000)\n",
        "        }\n",
        "    },\n",
        "    'logistic_regression': {\n",
        "        'model': LogisticRegression(random_state=15, n_jobs=300),\n",
        "        'params': {\n",
        "            'estimator__C': [0.085, 0.09, 0.092],\n",
        "            'estimator__solver':['lbfgs', 'liblinear'],\n",
        "        }\n",
        "    }\n",
        "}"
      ],
      "metadata": {
        "id": "CQwrz38sfBtu"
      },
      "execution_count": 40,
      "outputs": []
    },
    {
      "cell_type": "code",
      "source": [
        "from sklearn.impute import SimpleImputer\n",
        "from sklearn.preprocessing import FunctionTransformer"
      ],
      "metadata": {
        "id": "ltnmqWVzfGcH"
      },
      "execution_count": 41,
      "outputs": []
    },
    {
      "cell_type": "code",
      "source": [
        "model_grid"
      ],
      "metadata": {
        "colab": {
          "base_uri": "https://localhost:8080/"
        },
        "id": "lJmSQChx3dBY",
        "outputId": "dc1c9bb0-b1d9-4c64-bd57-54c30d6788c3"
      },
      "execution_count": 42,
      "outputs": [
        {
          "output_type": "execute_result",
          "data": {
            "text/plain": [
              "{'adb_classifier': {'model': AdaBoostClassifier(learning_rate=0.2, n_estimators=1000, random_state=15),\n",
              "  'params': {'estimator__n_estimators': <scipy.stats._distn_infrastructure.rv_frozen at 0x7f2e3c1e3d50>}},\n",
              " 'logistic_regression': {'model': LogisticRegression(n_jobs=300, random_state=15),\n",
              "  'params': {'estimator__C': [0.085, 0.09, 0.092],\n",
              "   'estimator__solver': ['lbfgs', 'liblinear']}},\n",
              " 'random_forest': {'model': RandomForestClassifier(n_estimators=500, n_jobs=50, random_state=15),\n",
              "  'params': {'estimator__class_weight': ['balanced', 'balanced_subsample'],\n",
              "   'estimator__criterion': ['gini', 'entropy'],\n",
              "   'estimator__max_depth': [5, 6, 7, 8, 9, 10],\n",
              "   'estimator__n_estimators': <scipy.stats._distn_infrastructure.rv_frozen at 0x7f2e3c1e39d0>}},\n",
              " 'xgb_classifier': {'model': XGBClassifier(colsample_bytree=0.8, early_stopping_rounds=100,\n",
              "                learning_rate=0.15, n_estimators=1000, n_jobs=500,\n",
              "                scale_pos_weight=0.1904761904761905, subsample=0.8, verbosity=2),\n",
              "  'params': {'estimator__max_depth': [5, 6, 7, 8],\n",
              "   'estimator__min_child_weight': [2, 3],\n",
              "   'estimator__n_estimators': <scipy.stats._distn_infrastructure.rv_frozen at 0x7f2e3c1e3c10>}}}"
            ]
          },
          "metadata": {},
          "execution_count": 42
        }
      ]
    },
    {
      "cell_type": "code",
      "source": [
        "# 'xgb_classifier'\n",
        "#  'random_forest'\n",
        "#  'logistic_regression'\n",
        "#  'adb_classifier'\n",
        "\n",
        "model={}\n",
        "scores = []\n",
        "models=[]   \n",
        "\n",
        "model_name='random_forest'\n",
        "# Create our pipeline\n",
        "pipe = Pipeline(steps=[\n",
        "      ('impute', SimpleImputer()),\n",
        "      ('round', FunctionTransformer(np.round)),\n",
        "      ('preprocessor', preprocessor),\n",
        "      ('estimator', model_grid[model_name]['model'])\n",
        "  ])\n",
        "\n",
        "model[model_name] = RandomizedSearchCV(estimator=pipe, param_distributions= model_grid[model_name]['params'],n_jobs=50, cv=5, return_train_score=True, n_iter=100, random_state=42,verbose=10,scoring = 'f1_weighted' ,refit=True)\n",
        "model[model_name].fit(X_train, y_train)\n",
        "scores.append({\n",
        "    'model': model_name,\n",
        "    'best_score:': model[model_name].best_score_,\n",
        "    'best_params': model[model_name].best_params_ })\n",
        "\n",
        "models.append({'model_best_esti': model[model_name].best_estimator_})"
      ],
      "metadata": {
        "colab": {
          "base_uri": "https://localhost:8080/"
        },
        "id": "oHiKEYPK4-p_",
        "outputId": "06d4b6ca-10f8-4d80-e79a-2e6798979f76"
      },
      "execution_count": 43,
      "outputs": [
        {
          "output_type": "stream",
          "name": "stdout",
          "text": [
            "Fitting 5 folds for each of 100 candidates, totalling 500 fits\n",
            "Warning: No categorical columns found. Calling 'transform' will only return input data.\n",
            "Warning: No categorical columns found. Calling 'transform' will only return input data.\n"
          ]
        }
      ]
    },
    {
      "cell_type": "code",
      "source": [
        "model[model_name].best_estimator_"
      ],
      "metadata": {
        "colab": {
          "base_uri": "https://localhost:8080/"
        },
        "id": "5e9ME9f-k77E",
        "outputId": "1d291373-f373-4111-bb1a-7c575cccfb39"
      },
      "execution_count": 44,
      "outputs": [
        {
          "output_type": "execute_result",
          "data": {
            "text/plain": [
              "Pipeline(steps=[('impute', SimpleImputer()),\n",
              "                ('round',\n",
              "                 FunctionTransformer(func=<function round_ at 0x7f2e29579710>)),\n",
              "                ('preprocessor',\n",
              "                 ColumnTransformer(transformers=[('impute', SimpleImputer(),\n",
              "                                                  [12]),\n",
              "                                                 ('cate', BinaryEncoder(),\n",
              "                                                  [1, 10, 11]),\n",
              "                                                 ('Ord', OrdinalEncoder(),\n",
              "                                                  [0, 2, 3, 4, 5, 6, 7, 8, 9,\n",
              "                                                   13, 14, 15, 16, 17, 18, 19,\n",
              "                                                   20, 21, 22, 23, 24, 25, 26,\n",
              "                                                   27, 28, 29, 30])])),\n",
              "                ('estimator',\n",
              "                 RandomForestClassifier(class_weight='balanced_subsample',\n",
              "                                        max_depth=10, n_estimators=799,\n",
              "                                        n_jobs=50, random_state=15))])"
            ]
          },
          "metadata": {},
          "execution_count": 44
        }
      ]
    },
    {
      "cell_type": "code",
      "source": [
        "x_predict = model[model_name].best_estimator_.predict(X_val)\n",
        "\n"
      ],
      "metadata": {
        "id": "lbucyKuHmPq0"
      },
      "execution_count": 45,
      "outputs": []
    },
    {
      "cell_type": "code",
      "source": [
        "from sklearn.metrics import classification_report, accuracy_score,roc_auc_score\n",
        "\n",
        "\n",
        "\n",
        "print(\"Classification roc_auc_score: %f\\n\" %(roc_auc_score(y_val, x_predict) ))\n",
        "print(\"Classification Score: %f\\n\" %(accuracy_score(y_val, x_predict) ))\n",
        "print(\"Classification:\\n\", classification_report(y_val, x_predict))\n",
        "\n"
      ],
      "metadata": {
        "colab": {
          "base_uri": "https://localhost:8080/"
        },
        "outputId": "64784f5e-d877-4a52-ee03-5829c3333ba0",
        "id": "ODnv61lImPq0"
      },
      "execution_count": 46,
      "outputs": [
        {
          "output_type": "stream",
          "name": "stdout",
          "text": [
            "Classification roc_auc_score: 0.779255\n",
            "\n",
            "Classification Score: 0.813414\n",
            "\n",
            "Classification:\n",
            "               precision    recall  f1-score   support\n",
            "\n",
            "           0       0.94      0.83      0.88      4408\n",
            "           1       0.45      0.73      0.56       855\n",
            "\n",
            "    accuracy                           0.81      5263\n",
            "   macro avg       0.70      0.78      0.72      5263\n",
            "weighted avg       0.86      0.81      0.83      5263\n",
            "\n"
          ]
        }
      ]
    },
    {
      "cell_type": "code",
      "source": [
        ""
      ],
      "metadata": {
        "id": "myrmT-J2yq27"
      },
      "execution_count": 46,
      "outputs": []
    },
    {
      "cell_type": "code",
      "source": [
        "x_predict = model[model_name].best_estimator_.predict(X_test)\n",
        "\n"
      ],
      "metadata": {
        "id": "tiJ3O_szZeQE"
      },
      "execution_count": 51,
      "outputs": []
    },
    {
      "cell_type": "code",
      "source": [
        "from sklearn.metrics import classification_report, accuracy_score,roc_auc_score\n",
        "\n",
        "\n",
        "\n",
        "print(\"Classification roc_auc_score: %f\\n\" %(roc_auc_score(y_test, x_predict) ))\n",
        "print(\"Classification Score: %f\\n\" %(accuracy_score(y_test, x_predict) ))\n",
        "print(\"Classification:\\n\", classification_report(y_test, x_predict))\n",
        "\n"
      ],
      "metadata": {
        "colab": {
          "base_uri": "https://localhost:8080/"
        },
        "outputId": "a8bf2178-11bf-40f2-dea9-4a629c862920",
        "id": "DdcLPg-cZeQJ"
      },
      "execution_count": 52,
      "outputs": [
        {
          "output_type": "stream",
          "name": "stdout",
          "text": [
            "Classification roc_auc_score: 0.780937\n",
            "\n",
            "Classification Score: 0.817449\n",
            "\n",
            "Classification:\n",
            "               precision    recall  f1-score   support\n",
            "\n",
            "           0       0.94      0.84      0.88      5510\n",
            "           1       0.46      0.73      0.56      1069\n",
            "\n",
            "    accuracy                           0.82      6579\n",
            "   macro avg       0.70      0.78      0.72      6579\n",
            "weighted avg       0.86      0.82      0.83      6579\n",
            "\n"
          ]
        }
      ]
    },
    {
      "cell_type": "code",
      "source": [
        ""
      ],
      "metadata": {
        "id": "9CsnR3NLZqVu"
      },
      "execution_count": 48,
      "outputs": []
    },
    {
      "cell_type": "code",
      "source": [
        ""
      ],
      "metadata": {
        "id": "rRIQ2vWmrzZ_"
      },
      "execution_count": 48,
      "outputs": []
    },
    {
      "cell_type": "code",
      "source": [
        "scores"
      ],
      "metadata": {
        "colab": {
          "base_uri": "https://localhost:8080/"
        },
        "id": "9W_4OyrmjQIE",
        "outputId": "7154e7e3-941d-4129-e9c1-d31ddc9eddbd"
      },
      "execution_count": 49,
      "outputs": [
        {
          "output_type": "execute_result",
          "data": {
            "text/plain": [
              "[{'best_params': {'estimator__class_weight': 'balanced_subsample',\n",
              "   'estimator__criterion': 'gini',\n",
              "   'estimator__max_depth': 10,\n",
              "   'estimator__n_estimators': 799},\n",
              "  'best_score:': 0.8328944451610832,\n",
              "  'model': 'random_forest'}]"
            ]
          },
          "metadata": {},
          "execution_count": 49
        }
      ]
    },
    {
      "cell_type": "code",
      "source": [
        " model.fit(X_train,y_train)"
      ],
      "metadata": {
        "colab": {
          "base_uri": "https://localhost:8080/",
          "height": 174
        },
        "id": "0ZfczhBlcfsC",
        "outputId": "9c2ec0c8-64ee-4296-9902-825e99a8dea5"
      },
      "execution_count": 50,
      "outputs": [
        {
          "output_type": "error",
          "ename": "AttributeError",
          "evalue": "ignored",
          "traceback": [
            "\u001b[0;31m---------------------------------------------------------------------------\u001b[0m",
            "\u001b[0;31mAttributeError\u001b[0m                            Traceback (most recent call last)",
            "\u001b[0;32m<ipython-input-50-b7a8c64777c1>\u001b[0m in \u001b[0;36m<module>\u001b[0;34m()\u001b[0m\n\u001b[0;32m----> 1\u001b[0;31m \u001b[0mmodel\u001b[0m\u001b[0;34m.\u001b[0m\u001b[0mfit\u001b[0m\u001b[0;34m(\u001b[0m\u001b[0mX_train\u001b[0m\u001b[0;34m,\u001b[0m\u001b[0my_train\u001b[0m\u001b[0;34m)\u001b[0m\u001b[0;34m\u001b[0m\u001b[0;34m\u001b[0m\u001b[0m\n\u001b[0m",
            "\u001b[0;31mAttributeError\u001b[0m: 'dict' object has no attribute 'fit'"
          ]
        }
      ]
    },
    {
      "cell_type": "code",
      "source": [
        ""
      ],
      "metadata": {
        "id": "6JaNuS_ynZOG"
      },
      "execution_count": null,
      "outputs": []
    },
    {
      "cell_type": "code",
      "source": [
        "xgb_best = model['xgb_classifier'].best_estimator_\n",
        "xgb_best"
      ],
      "metadata": {
        "id": "NidaG4QLizFH"
      },
      "execution_count": null,
      "outputs": []
    },
    {
      "cell_type": "markdown",
      "source": [
        "## Choosing a Model??\n"
      ],
      "metadata": {
        "id": "UwZmW-YTmWst"
      }
    },
    {
      "cell_type": "code",
      "source": [
        "y_test[y_test==1].size"
      ],
      "metadata": {
        "id": "Axa4tr-aEBuM"
      },
      "execution_count": null,
      "outputs": []
    },
    {
      "cell_type": "code",
      "source": [
        "\n",
        "\n",
        "print(\"Dummy Model Score: \", y_test[y_test==1].size/y_test.shape[0])\n"
      ],
      "metadata": {
        "id": "p2SCCdDHEkdq"
      },
      "execution_count": null,
      "outputs": []
    },
    {
      "cell_type": "code",
      "source": [
        "xgb_predict = xgb_best.predict(X_val)\n",
        "\n"
      ],
      "metadata": {
        "id": "f7_k-MM5EwtI"
      },
      "execution_count": null,
      "outputs": []
    },
    {
      "cell_type": "code",
      "source": [
        "from sklearn.metrics import classification_report, accuracy_score\n",
        "\n",
        "\n",
        "print(\"XGB Classification Score: %f\\n\" %(accuracy_score(y_val, xgb_predict) ))\n",
        "print(\"XGB Classification:\\n\", classification_report(y_val, xgb_predict))\n",
        "\n"
      ],
      "metadata": {
        "id": "Sg7XFa6GGdHF"
      },
      "execution_count": null,
      "outputs": []
    },
    {
      "cell_type": "markdown",
      "source": [
        "## Feature importances"
      ],
      "metadata": {
        "id": "wSZHu4dFfLlG"
      }
    },
    {
      "cell_type": "code",
      "source": [
        "rf_encoder = OrdinalEncoder()\n",
        "\n",
        "X_train_encoded =rf_encoder.fit_transform(X_train)\n",
        "X_val_encoded =rf_encoder.transform(X_val)\n"
      ],
      "metadata": {
        "id": "lRFJ8tlJt5oN"
      },
      "execution_count": null,
      "outputs": []
    },
    {
      "cell_type": "code",
      "source": [
        "X_val_encoded.shape"
      ],
      "metadata": {
        "id": "A5CbGE401-yo"
      },
      "execution_count": null,
      "outputs": []
    },
    {
      "cell_type": "code",
      "source": [
        "X_train.isnull().sum()"
      ],
      "metadata": {
        "id": "AXiZGD-o2xLb"
      },
      "execution_count": null,
      "outputs": []
    },
    {
      "cell_type": "code",
      "source": [
        "y_train.shape"
      ],
      "metadata": {
        "id": "Far0VYLF2q1T"
      },
      "execution_count": null,
      "outputs": []
    },
    {
      "cell_type": "code",
      "source": [
        "rf.feature_importances_.shape"
      ],
      "metadata": {
        "id": "vJg4SG2Nb0gK"
      },
      "execution_count": null,
      "outputs": []
    },
    {
      "cell_type": "code",
      "source": [
        "# 특성 중요도\n",
        "#rf_encoder = model.best_estimator_.named_steps['preprocessor']\n",
        "#_train_encoded =rf_encoder.transform(X_train)\n",
        "\n",
        "rf = xgb_best.named_steps['estimator']\n",
        "#rf.fit(X_train,y_train)\n",
        "importances = pd.Series(rf.feature_importances_, X_train.columns)\n",
        "\n",
        "%matplotlib inline\n",
        "import matplotlib.pyplot as plt\n",
        "\n",
        "n = 20\n",
        "plt.figure(figsize=(10,n/2))\n",
        "plt.title(f'Top {n} features')\n",
        "importances.sort_values()[-n:].plot.barh();"
      ],
      "metadata": {
        "id": "v5uACmN_gQrq"
      },
      "execution_count": null,
      "outputs": []
    },
    {
      "cell_type": "code",
      "source": [
        "import eli5\n",
        "from eli5.sklearn import PermutationImportance\n",
        "\n",
        "# permuter 생성\n",
        "permuter = PermutationImportance(\n",
        "    xgb_best,\n",
        "    scoring= 'roc_auc', #'neg_mean_absolute_error',\n",
        "    n_iter=5,\n",
        "    random_state=42)\n",
        "\n",
        "# permutation importance 계산\n",
        "permuter.fit(X_val, y_val)\n",
        "\n",
        "# 결과 확인\n",
        "feature_names = list(X_val.columns)\n",
        "pd.Series(permuter.feature_importances_, feature_names).sort_values(ascending=False)"
      ],
      "metadata": {
        "id": "4vBci74BfPTR"
      },
      "execution_count": null,
      "outputs": []
    },
    {
      "cell_type": "code",
      "source": [
        "xgb_best.named_steps"
      ],
      "metadata": {
        "id": "Jwrv7FQygjov"
      },
      "execution_count": null,
      "outputs": []
    },
    {
      "cell_type": "code",
      "source": [
        "# 특성별 score 확인\n",
        "eli5.show_weights(\n",
        "    permuter, \n",
        "    top=None, # top n 지정 가능, None 일 경우 모든 특성 \n",
        "    feature_names=feature_names # list 형식으로 넣어야 합니다\n",
        ")"
      ],
      "metadata": {
        "id": "r-9bgjFIkIU8"
      },
      "execution_count": null,
      "outputs": []
    },
    {
      "cell_type": "markdown",
      "source": [
        "## PDP"
      ],
      "metadata": {
        "id": "CHReLHbiHJNe"
      }
    },
    {
      "cell_type": "code",
      "source": [
        "from pdpbox.pdp import pdp_isolate, pdp_plot,pdp_interact,pdp_interact_plot\n",
        "# dpi(dots per inch) 수치를 조정해 이미지 화질을 조정 할 수 있습니다\n",
        "import matplotlib.pyplot as plt\n",
        "plt.rcParams['figure.dpi'] = 144"
      ],
      "metadata": {
        "id": "qvmWxaOzHIua"
      },
      "execution_count": null,
      "outputs": []
    },
    {
      "cell_type": "code",
      "source": [
        "X_val.columns"
      ],
      "metadata": {
        "id": "dAoG5lpbJPYO"
      },
      "execution_count": null,
      "outputs": []
    },
    {
      "cell_type": "code",
      "source": [
        "from category_encoders import OrdinalEncoder\n",
        "from sklearn.metrics import r2_score\n",
        "from xgboost import XGBRegressor\n",
        "\n",
        "encoder = preprocessor\n",
        "X_train_encoded = encoder.fit_transform(X_train) # 학습데이터\n",
        "X_val_encoded = encoder.transform(X_val) # 검증데이터\n",
        "\n",
        "\n",
        "\n",
        "model = XGBClassifier(\n",
        "    n_estimators=1000,  # <= 1000 트리로 설정했지만, early stopping 에 따라 조절됩니다.\n",
        "    max_depth=7,        # default=3, high cardinality 특성을 위해 기본보다 높여 보았습니다.\n",
        "    learning_rate=0.2,\n",
        "#     scale_pos_weight=ratio, # imbalance 데이터 일 경우 비율을 적용합니다.\n",
        "    n_jobs=-1\n",
        ")\n",
        "\n",
        "eval_set = [(X_train_encoded, y_train), \n",
        "            (X_val_encoded, y_val)]\n",
        "\n",
        "model.fit(X_train_encoded, y_train, \n",
        "          eval_set=eval_set,\n",
        "          eval_metric='error', # #(wrong cases)/#(all cases)\n",
        "          early_stopping_rounds=50\n",
        "         ) # 50 rounds 동안 스코어의 개선이 없으면 멈춤"
      ],
      "metadata": {
        "id": "QUpOIh3KqL4v"
      },
      "execution_count": null,
      "outputs": []
    },
    {
      "cell_type": "code",
      "source": [
        "model.evals_result()"
      ],
      "metadata": {
        "id": "3MznfELGH2A7"
      },
      "execution_count": null,
      "outputs": []
    },
    {
      "cell_type": "code",
      "source": [
        "# monotonic constraints 효과, 단조증가해야 하는 특성이 오류로 비단조 증가할때 변수마다 적용 가능합니다.\n",
        "from IPython.display import HTML, display\n",
        "display(HTML('<table><tr><td><img src=\"https://xiaoxiaowang87.github.io/images/2016-11-20-monotonicity_constraint/no_constraint_one_feature.png\" width=\"300\" /></td><td><img src=\"https://xiaoxiaowang87.github.io/images/2016-11-20-monotonicity_constraint/w_constraint_one_feature.png\" width=\"300\" /></td></tr></table>'))"
      ],
      "metadata": {
        "id": "Y77MEfJnIAM8"
      },
      "execution_count": null,
      "outputs": []
    },
    {
      "cell_type": "code",
      "source": [
        "%matplotlib inline\n",
        "\n",
        "results = model.evals_result()\n",
        "train_error = results['validation_0']['error']\n",
        "val_error = results['validation_1']['error']\n",
        "\n",
        "epoch = range(1, len(train_error)+1)\n",
        "plt.figure()\n",
        "plt.plot(epoch, train_error, label='Train')\n",
        "plt.plot(epoch, val_error, label='Validation')\n",
        "plt.ylabel('Classification Error')\n",
        "plt.xlabel('Model Complexity (n_estimators)')\n",
        "#plt.ylim((0.15, 0.25)) # Zoom in\n",
        "plt.legend();\n",
        "plt.show()"
      ],
      "metadata": {
        "id": "PvAAmDXTHw49"
      },
      "execution_count": null,
      "outputs": []
    },
    {
      "cell_type": "code",
      "source": [
        "isolated = pdp_isolate(\n",
        "    model=boosting, \n",
        "    dataset=X_val_encoded, \n",
        "    model_features=X_val_encoded.columns, \n",
        "    feature=feature\n",
        ")"
      ],
      "metadata": {
        "id": "lS8QSuU4quw4"
      },
      "execution_count": null,
      "outputs": []
    },
    {
      "cell_type": "code",
      "source": [
        "X_val_encoded"
      ],
      "metadata": {
        "id": "KGClPI_7KQ4Z"
      },
      "execution_count": null,
      "outputs": []
    },
    {
      "cell_type": "code",
      "source": [
        "feature = 'CIG30USE'\n",
        "isolated = pdp_isolate(\n",
        "    model=rf_best, \n",
        "    dataset=X_train, \n",
        "    model_features=X_val.columns, \n",
        "    feature=feature\n",
        ")"
      ],
      "metadata": {
        "id": "ecyWDJOoJ_7O"
      },
      "execution_count": null,
      "outputs": []
    },
    {
      "cell_type": "code",
      "source": [
        "pdp_plot(isolated, feature_name=feature);\n"
      ],
      "metadata": {
        "id": "-gbjqg8GKWGM"
      },
      "execution_count": null,
      "outputs": []
    },
    {
      "cell_type": "code",
      "source": [
        "# 2D PDP\n",
        "features = ['sex', 'age']\n",
        "\n",
        "interaction = pdp_interact(\n",
        "    model=rf, \n",
        "    dataset=X_val, \n",
        "    model_features=X_val.columns, \n",
        "    features=features\n",
        ")\n",
        "\n",
        "pdp_interact_plot(interaction, plot_type='grid', feature_names=features);"
      ],
      "metadata": {
        "id": "euppqGlFKupS"
      },
      "execution_count": null,
      "outputs": []
    }
  ],
  "metadata": {
    "accelerator": "TPU",
    "colab": {
      "machine_shape": "hm",
      "name": "Section2_Project _AI14 김영래  NSDUH 2020 data.ipynb의 사본",
      "provenance": [],
      "collapsed_sections": []
    },
    "gpuClass": "standard",
    "kernelspec": {
      "display_name": "Python 3",
      "name": "python3"
    },
    "language_info": {
      "name": "python"
    }
  },
  "nbformat": 4,
  "nbformat_minor": 0
}